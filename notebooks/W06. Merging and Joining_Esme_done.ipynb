{
  "cells": [
    {
      "cell_type": "markdown",
      "metadata": {
        "id": "6fah6VTyS6hd"
      },
      "source": [
        "# Merging and Joining\n",
        "\n",
        "## *Workshop 6*  [![Open In Colab](https://github.com/oballinger/QM2/blob/main/colab-badge.png?raw=1)](https://colab.research.google.com/github/oballinger/QM2/blob/main/notebooks/W06.%20Merging%20and%20Joining.ipynb)\n",
        "\n",
        "\n",
        "Sometimes, we will want to combine data from different sources about the same subject - perhaps we want to compare the GDP in a country with life expectancy, or the proportion of free schools meals with the level of unemployment.\n",
        "\n",
        "### Aims\n",
        "- Understand joins\n",
        "- Work with joining dataframes in Pandas\n",
        "- Create your own examples"
      ]
    },
    {
      "cell_type": "markdown",
      "metadata": {
        "id": "XdibOrmwS6he"
      },
      "source": [
        "## Downloading the Data\n",
        "Let's grab the data we will need this week from our course website and save it into our data folder. If you've not already created a data folder then do so using the following command.\n",
        "\n",
        "Don't worry if it generates an error, that means you've already got a data folder.\n"
      ]
    },
    {
      "cell_type": "code",
      "execution_count": 1,
      "metadata": {
        "colab": {
          "base_uri": "https://localhost:8080/"
        },
        "id": "I50UwMZMS6hf",
        "outputId": "f3b56ebf-9806-4b11-9fe3-de86acea2134"
      },
      "outputs": [
        {
          "output_type": "stream",
          "name": "stdout",
          "text": [
            "mkdir: data: File exists\r\n"
          ]
        }
      ],
      "source": [
        "!mkdir data"
      ]
    },
    {
      "cell_type": "code",
      "execution_count": 2,
      "metadata": {
        "colab": {
          "base_uri": "https://localhost:8080/"
        },
        "id": "gyAVkq3xS6hj",
        "outputId": "70383a6f-9e10-4434-84cc-434f37663560"
      },
      "outputs": [
        {
          "output_type": "stream",
          "name": "stdout",
          "text": [
            "  % Total    % Received % Xferd  Average Speed   Time    Time     Time  Current\r\n",
            "                                 Dload  Upload   Total   Spent    Left  Speed\n",
            "100  354k  100  354k    0     0   528k      0 --:--:-- --:--:-- --:--:--  528k\n",
            "  % Total    % Received % Xferd  Average Speed   Time    Time     Time  Current\n",
            "                                 Dload  Upload   Total   Spent    Left  Speed\n",
            "100 31445  100 31445    0     0   171k      0 --:--:-- --:--:-- --:--:--  172k\n",
            "  % Total    % Received % Xferd  Average Speed   Time    Time     Time  Current\n",
            "                                 Dload  Upload   Total   Spent    Left  Speed\n",
            "100  373k  100  373k    0     0   601k      0 --:--:-- --:--:-- --:--:--  602k\n"
          ]
        }
      ],
      "source": [
        "!mkdir data/wk5\n",
        "!curl https://s3.eu-west-2.amazonaws.com/qm2/wk3/UN_Life_all.csv -o ./data/wk5/UN_Life_all.csv\n",
        "!curl https://s3.eu-west-2.amazonaws.com/qm2/wk3/UN_Cities_1214_country.csv -o ./data/wk5/UN_Cities_1214_country.csv\n",
        "!curl https://s3.eu-west-2.amazonaws.com/qm2/wk3/UN_Cities_1214_population.csv -o ./data/wk5/UN_Cities_1214_population.csv"
      ]
    },
    {
      "cell_type": "markdown",
      "metadata": {
        "id": "tuOYWYbUS6hm"
      },
      "source": [
        "## Joining Instructions\n",
        "\n",
        "Joins are the combination of different datasets, and are common in relational databases as a way of performing queries. There are lots of examples of why and when we might want to do this, but most start with two tables of data. We're going to start with some data we've generated.\n",
        "\n",
        "I'm going to go back and work with fake data for a while, because it's clean and small and we can see what's going on - when we work with real data, we have to take great care that the data is clean, the indices match, and so on."
      ]
    },
    {
      "cell_type": "code",
      "execution_count": 3,
      "metadata": {
        "id": "UdRoLsYhS6hm"
      },
      "outputs": [],
      "source": [
        "import matplotlib.pyplot as plt\n",
        "import pandas as pd\n",
        "import numpy as np\n",
        "import random\n",
        "%matplotlib inline\n"
      ]
    },
    {
      "cell_type": "markdown",
      "metadata": {
        "id": "LOltFFwmS6hp"
      },
      "source": [
        "Let's create dataframes which represent fictitious values associated with people. Let's assume our data is anonymised because we're ethical researchers and don't want information about real people leaking out."
      ]
    },
    {
      "cell_type": "code",
      "execution_count": 4,
      "metadata": {
        "id": "RnB2LIRvS6hp"
      },
      "outputs": [],
      "source": [
        "people1 = pd.DataFrame(5+np.random.randn(5, 5))\n",
        "people1.columns = ['units of alcohol drunk','cigarettes smoked','sleep per night','height','BMI']"
      ]
    },
    {
      "cell_type": "code",
      "execution_count": 5,
      "metadata": {
        "colab": {
          "base_uri": "https://localhost:8080/",
          "height": 206
        },
        "id": "CKiFh3BkS6hs",
        "outputId": "00578292-cb69-4049-ba6a-08b46909cd5e"
      },
      "outputs": [
        {
          "output_type": "execute_result",
          "data": {
            "text/plain": [
              "   units of alcohol drunk  cigarettes smoked  sleep per night    height  \\\n",
              "0                2.849880           4.371607         4.817664  4.322325   \n",
              "1                6.534255           6.022761         4.200022  4.866216   \n",
              "2                6.013061           6.090948         5.391306  5.994349   \n",
              "3                5.178769           5.050090         4.808957  5.125007   \n",
              "4                3.409621           4.919953         3.524745  5.545377   \n",
              "\n",
              "        BMI  \n",
              "0  4.750897  \n",
              "1  5.569013  \n",
              "2  4.124369  \n",
              "3  5.762778  \n",
              "4  5.327792  "
            ],
            "text/html": [
              "<div>\n",
              "<style scoped>\n",
              "    .dataframe tbody tr th:only-of-type {\n",
              "        vertical-align: middle;\n",
              "    }\n",
              "\n",
              "    .dataframe tbody tr th {\n",
              "        vertical-align: top;\n",
              "    }\n",
              "\n",
              "    .dataframe thead th {\n",
              "        text-align: right;\n",
              "    }\n",
              "</style>\n",
              "<table border=\"1\" class=\"dataframe\">\n",
              "  <thead>\n",
              "    <tr style=\"text-align: right;\">\n",
              "      <th></th>\n",
              "      <th>units of alcohol drunk</th>\n",
              "      <th>cigarettes smoked</th>\n",
              "      <th>sleep per night</th>\n",
              "      <th>height</th>\n",
              "      <th>BMI</th>\n",
              "    </tr>\n",
              "  </thead>\n",
              "  <tbody>\n",
              "    <tr>\n",
              "      <th>0</th>\n",
              "      <td>2.849880</td>\n",
              "      <td>4.371607</td>\n",
              "      <td>4.817664</td>\n",
              "      <td>4.322325</td>\n",
              "      <td>4.750897</td>\n",
              "    </tr>\n",
              "    <tr>\n",
              "      <th>1</th>\n",
              "      <td>6.534255</td>\n",
              "      <td>6.022761</td>\n",
              "      <td>4.200022</td>\n",
              "      <td>4.866216</td>\n",
              "      <td>5.569013</td>\n",
              "    </tr>\n",
              "    <tr>\n",
              "      <th>2</th>\n",
              "      <td>6.013061</td>\n",
              "      <td>6.090948</td>\n",
              "      <td>5.391306</td>\n",
              "      <td>5.994349</td>\n",
              "      <td>4.124369</td>\n",
              "    </tr>\n",
              "    <tr>\n",
              "      <th>3</th>\n",
              "      <td>5.178769</td>\n",
              "      <td>5.050090</td>\n",
              "      <td>4.808957</td>\n",
              "      <td>5.125007</td>\n",
              "      <td>5.762778</td>\n",
              "    </tr>\n",
              "    <tr>\n",
              "      <th>4</th>\n",
              "      <td>3.409621</td>\n",
              "      <td>4.919953</td>\n",
              "      <td>3.524745</td>\n",
              "      <td>5.545377</td>\n",
              "      <td>5.327792</td>\n",
              "    </tr>\n",
              "  </tbody>\n",
              "</table>\n",
              "</div>"
            ]
          },
          "metadata": {},
          "execution_count": 5
        }
      ],
      "source": [
        "people1"
      ]
    },
    {
      "cell_type": "code",
      "execution_count": 6,
      "metadata": {
        "id": "fjUbAFEFS6hv"
      },
      "outputs": [],
      "source": [
        "people2 = pd.DataFrame(5+np.random.randn(3, 5))\n",
        "people2.columns = ['units of alcohol drunk','cigarettes smoked','sleep per night','height','BMI']"
      ]
    },
    {
      "cell_type": "code",
      "execution_count": 7,
      "metadata": {
        "colab": {
          "base_uri": "https://localhost:8080/",
          "height": 143
        },
        "id": "VpCJny82S6hy",
        "outputId": "abb06049-4be4-458d-d4ca-337da5b62bc7"
      },
      "outputs": [
        {
          "output_type": "execute_result",
          "data": {
            "text/plain": [
              "   units of alcohol drunk  cigarettes smoked  sleep per night    height  \\\n",
              "0                6.043599           3.192596         5.229002  4.317960   \n",
              "1                3.452887           5.222821         7.795852  4.683537   \n",
              "2                4.500716           6.080306         5.334527  5.374513   \n",
              "\n",
              "        BMI  \n",
              "0  4.450315  \n",
              "1  4.763085  \n",
              "2  4.648607  "
            ],
            "text/html": [
              "<div>\n",
              "<style scoped>\n",
              "    .dataframe tbody tr th:only-of-type {\n",
              "        vertical-align: middle;\n",
              "    }\n",
              "\n",
              "    .dataframe tbody tr th {\n",
              "        vertical-align: top;\n",
              "    }\n",
              "\n",
              "    .dataframe thead th {\n",
              "        text-align: right;\n",
              "    }\n",
              "</style>\n",
              "<table border=\"1\" class=\"dataframe\">\n",
              "  <thead>\n",
              "    <tr style=\"text-align: right;\">\n",
              "      <th></th>\n",
              "      <th>units of alcohol drunk</th>\n",
              "      <th>cigarettes smoked</th>\n",
              "      <th>sleep per night</th>\n",
              "      <th>height</th>\n",
              "      <th>BMI</th>\n",
              "    </tr>\n",
              "  </thead>\n",
              "  <tbody>\n",
              "    <tr>\n",
              "      <th>0</th>\n",
              "      <td>6.043599</td>\n",
              "      <td>3.192596</td>\n",
              "      <td>5.229002</td>\n",
              "      <td>4.317960</td>\n",
              "      <td>4.450315</td>\n",
              "    </tr>\n",
              "    <tr>\n",
              "      <th>1</th>\n",
              "      <td>3.452887</td>\n",
              "      <td>5.222821</td>\n",
              "      <td>7.795852</td>\n",
              "      <td>4.683537</td>\n",
              "      <td>4.763085</td>\n",
              "    </tr>\n",
              "    <tr>\n",
              "      <th>2</th>\n",
              "      <td>4.500716</td>\n",
              "      <td>6.080306</td>\n",
              "      <td>5.334527</td>\n",
              "      <td>5.374513</td>\n",
              "      <td>4.648607</td>\n",
              "    </tr>\n",
              "  </tbody>\n",
              "</table>\n",
              "</div>"
            ]
          },
          "metadata": {},
          "execution_count": 7
        }
      ],
      "source": [
        "people2"
      ]
    },
    {
      "cell_type": "markdown",
      "metadata": {
        "id": "DJh0iZU3S6h1"
      },
      "source": [
        "# Adding new observations\n",
        "\n",
        "It looks as if we have some data about people (although we've just made it up), and a set of common measurements. It would be nice to have all of this in one place, so let's *merge* them into one dataframe. We'll use the *concat* command, which is short for *concatenate*, or \"chain together\"."
      ]
    },
    {
      "cell_type": "code",
      "execution_count": 8,
      "metadata": {
        "id": "FLd5xBDeS6h1"
      },
      "outputs": [],
      "source": [
        "people3 = pd.concat([people1,people2])"
      ]
    },
    {
      "cell_type": "code",
      "execution_count": 9,
      "metadata": {
        "colab": {
          "base_uri": "https://localhost:8080/",
          "height": 300
        },
        "id": "hKOqzkyJS6h3",
        "outputId": "65f12f61-7160-45b6-9f95-fcc1bce76457"
      },
      "outputs": [
        {
          "output_type": "execute_result",
          "data": {
            "text/plain": [
              "   units of alcohol drunk  cigarettes smoked  sleep per night    height  \\\n",
              "0                2.849880           4.371607         4.817664  4.322325   \n",
              "1                6.534255           6.022761         4.200022  4.866216   \n",
              "2                6.013061           6.090948         5.391306  5.994349   \n",
              "3                5.178769           5.050090         4.808957  5.125007   \n",
              "4                3.409621           4.919953         3.524745  5.545377   \n",
              "0                6.043599           3.192596         5.229002  4.317960   \n",
              "1                3.452887           5.222821         7.795852  4.683537   \n",
              "2                4.500716           6.080306         5.334527  5.374513   \n",
              "\n",
              "        BMI  \n",
              "0  4.750897  \n",
              "1  5.569013  \n",
              "2  4.124369  \n",
              "3  5.762778  \n",
              "4  5.327792  \n",
              "0  4.450315  \n",
              "1  4.763085  \n",
              "2  4.648607  "
            ],
            "text/html": [
              "<div>\n",
              "<style scoped>\n",
              "    .dataframe tbody tr th:only-of-type {\n",
              "        vertical-align: middle;\n",
              "    }\n",
              "\n",
              "    .dataframe tbody tr th {\n",
              "        vertical-align: top;\n",
              "    }\n",
              "\n",
              "    .dataframe thead th {\n",
              "        text-align: right;\n",
              "    }\n",
              "</style>\n",
              "<table border=\"1\" class=\"dataframe\">\n",
              "  <thead>\n",
              "    <tr style=\"text-align: right;\">\n",
              "      <th></th>\n",
              "      <th>units of alcohol drunk</th>\n",
              "      <th>cigarettes smoked</th>\n",
              "      <th>sleep per night</th>\n",
              "      <th>height</th>\n",
              "      <th>BMI</th>\n",
              "    </tr>\n",
              "  </thead>\n",
              "  <tbody>\n",
              "    <tr>\n",
              "      <th>0</th>\n",
              "      <td>2.849880</td>\n",
              "      <td>4.371607</td>\n",
              "      <td>4.817664</td>\n",
              "      <td>4.322325</td>\n",
              "      <td>4.750897</td>\n",
              "    </tr>\n",
              "    <tr>\n",
              "      <th>1</th>\n",
              "      <td>6.534255</td>\n",
              "      <td>6.022761</td>\n",
              "      <td>4.200022</td>\n",
              "      <td>4.866216</td>\n",
              "      <td>5.569013</td>\n",
              "    </tr>\n",
              "    <tr>\n",
              "      <th>2</th>\n",
              "      <td>6.013061</td>\n",
              "      <td>6.090948</td>\n",
              "      <td>5.391306</td>\n",
              "      <td>5.994349</td>\n",
              "      <td>4.124369</td>\n",
              "    </tr>\n",
              "    <tr>\n",
              "      <th>3</th>\n",
              "      <td>5.178769</td>\n",
              "      <td>5.050090</td>\n",
              "      <td>4.808957</td>\n",
              "      <td>5.125007</td>\n",
              "      <td>5.762778</td>\n",
              "    </tr>\n",
              "    <tr>\n",
              "      <th>4</th>\n",
              "      <td>3.409621</td>\n",
              "      <td>4.919953</td>\n",
              "      <td>3.524745</td>\n",
              "      <td>5.545377</td>\n",
              "      <td>5.327792</td>\n",
              "    </tr>\n",
              "    <tr>\n",
              "      <th>0</th>\n",
              "      <td>6.043599</td>\n",
              "      <td>3.192596</td>\n",
              "      <td>5.229002</td>\n",
              "      <td>4.317960</td>\n",
              "      <td>4.450315</td>\n",
              "    </tr>\n",
              "    <tr>\n",
              "      <th>1</th>\n",
              "      <td>3.452887</td>\n",
              "      <td>5.222821</td>\n",
              "      <td>7.795852</td>\n",
              "      <td>4.683537</td>\n",
              "      <td>4.763085</td>\n",
              "    </tr>\n",
              "    <tr>\n",
              "      <th>2</th>\n",
              "      <td>4.500716</td>\n",
              "      <td>6.080306</td>\n",
              "      <td>5.334527</td>\n",
              "      <td>5.374513</td>\n",
              "      <td>4.648607</td>\n",
              "    </tr>\n",
              "  </tbody>\n",
              "</table>\n",
              "</div>"
            ]
          },
          "metadata": {},
          "execution_count": 9
        }
      ],
      "source": [
        "people3"
      ]
    },
    {
      "cell_type": "markdown",
      "metadata": {
        "id": "lv4myEKXS6h6"
      },
      "source": [
        "### What is the problem above?"
      ]
    },
    {
      "cell_type": "code",
      "execution_count": 10,
      "metadata": {
        "id": "aPkZTYWGS6h6"
      },
      "outputs": [],
      "source": [
        "people4 = pd.concat([people1,people2], ignore_index=True)"
      ]
    },
    {
      "cell_type": "code",
      "execution_count": 11,
      "metadata": {
        "colab": {
          "base_uri": "https://localhost:8080/",
          "height": 300
        },
        "id": "1TEx5aX3S6h9",
        "outputId": "1779e831-5687-4fed-9f0b-20623bffa2f2"
      },
      "outputs": [
        {
          "output_type": "execute_result",
          "data": {
            "text/plain": [
              "   units of alcohol drunk  cigarettes smoked  sleep per night    height  \\\n",
              "0                2.849880           4.371607         4.817664  4.322325   \n",
              "1                6.534255           6.022761         4.200022  4.866216   \n",
              "2                6.013061           6.090948         5.391306  5.994349   \n",
              "3                5.178769           5.050090         4.808957  5.125007   \n",
              "4                3.409621           4.919953         3.524745  5.545377   \n",
              "5                6.043599           3.192596         5.229002  4.317960   \n",
              "6                3.452887           5.222821         7.795852  4.683537   \n",
              "7                4.500716           6.080306         5.334527  5.374513   \n",
              "\n",
              "        BMI  \n",
              "0  4.750897  \n",
              "1  5.569013  \n",
              "2  4.124369  \n",
              "3  5.762778  \n",
              "4  5.327792  \n",
              "5  4.450315  \n",
              "6  4.763085  \n",
              "7  4.648607  "
            ],
            "text/html": [
              "<div>\n",
              "<style scoped>\n",
              "    .dataframe tbody tr th:only-of-type {\n",
              "        vertical-align: middle;\n",
              "    }\n",
              "\n",
              "    .dataframe tbody tr th {\n",
              "        vertical-align: top;\n",
              "    }\n",
              "\n",
              "    .dataframe thead th {\n",
              "        text-align: right;\n",
              "    }\n",
              "</style>\n",
              "<table border=\"1\" class=\"dataframe\">\n",
              "  <thead>\n",
              "    <tr style=\"text-align: right;\">\n",
              "      <th></th>\n",
              "      <th>units of alcohol drunk</th>\n",
              "      <th>cigarettes smoked</th>\n",
              "      <th>sleep per night</th>\n",
              "      <th>height</th>\n",
              "      <th>BMI</th>\n",
              "    </tr>\n",
              "  </thead>\n",
              "  <tbody>\n",
              "    <tr>\n",
              "      <th>0</th>\n",
              "      <td>2.849880</td>\n",
              "      <td>4.371607</td>\n",
              "      <td>4.817664</td>\n",
              "      <td>4.322325</td>\n",
              "      <td>4.750897</td>\n",
              "    </tr>\n",
              "    <tr>\n",
              "      <th>1</th>\n",
              "      <td>6.534255</td>\n",
              "      <td>6.022761</td>\n",
              "      <td>4.200022</td>\n",
              "      <td>4.866216</td>\n",
              "      <td>5.569013</td>\n",
              "    </tr>\n",
              "    <tr>\n",
              "      <th>2</th>\n",
              "      <td>6.013061</td>\n",
              "      <td>6.090948</td>\n",
              "      <td>5.391306</td>\n",
              "      <td>5.994349</td>\n",
              "      <td>4.124369</td>\n",
              "    </tr>\n",
              "    <tr>\n",
              "      <th>3</th>\n",
              "      <td>5.178769</td>\n",
              "      <td>5.050090</td>\n",
              "      <td>4.808957</td>\n",
              "      <td>5.125007</td>\n",
              "      <td>5.762778</td>\n",
              "    </tr>\n",
              "    <tr>\n",
              "      <th>4</th>\n",
              "      <td>3.409621</td>\n",
              "      <td>4.919953</td>\n",
              "      <td>3.524745</td>\n",
              "      <td>5.545377</td>\n",
              "      <td>5.327792</td>\n",
              "    </tr>\n",
              "    <tr>\n",
              "      <th>5</th>\n",
              "      <td>6.043599</td>\n",
              "      <td>3.192596</td>\n",
              "      <td>5.229002</td>\n",
              "      <td>4.317960</td>\n",
              "      <td>4.450315</td>\n",
              "    </tr>\n",
              "    <tr>\n",
              "      <th>6</th>\n",
              "      <td>3.452887</td>\n",
              "      <td>5.222821</td>\n",
              "      <td>7.795852</td>\n",
              "      <td>4.683537</td>\n",
              "      <td>4.763085</td>\n",
              "    </tr>\n",
              "    <tr>\n",
              "      <th>7</th>\n",
              "      <td>4.500716</td>\n",
              "      <td>6.080306</td>\n",
              "      <td>5.334527</td>\n",
              "      <td>5.374513</td>\n",
              "      <td>4.648607</td>\n",
              "    </tr>\n",
              "  </tbody>\n",
              "</table>\n",
              "</div>"
            ]
          },
          "metadata": {},
          "execution_count": 11
        }
      ],
      "source": [
        "people4"
      ]
    },
    {
      "cell_type": "markdown",
      "metadata": {
        "id": "caWsFFxQS6h_"
      },
      "source": [
        "`ignore_index` is very useful when we want a new DataFrame which only contains data from other DataFrames, but unrelated otherwise."
      ]
    },
    {
      "cell_type": "markdown",
      "metadata": {
        "id": "wTxlLjkOS6iA"
      },
      "source": [
        "## Data with a unique index: adding new observations\n",
        "\n",
        "Let's now examine data where the elements of study are not anonymous. Let's consider that we have some city data. If we have city names (or equivalent) in the index column, simply concatenating them would be fine, because the names would not repeat in the way the index has above."
      ]
    },
    {
      "cell_type": "code",
      "execution_count": 12,
      "metadata": {
        "id": "tqM3BIJSS6iA"
      },
      "outputs": [],
      "source": [
        "df1 = pd.DataFrame(5+np.random.randn(5, 5))\n",
        "df1.columns = ['area','population','mean temperature','elevation','annual rainfall']\n",
        "df1.index = ['London', 'Paris', 'Beijing', 'Medellin', 'Port Elizabeth']"
      ]
    },
    {
      "cell_type": "code",
      "execution_count": 13,
      "metadata": {
        "colab": {
          "base_uri": "https://localhost:8080/",
          "height": 206
        },
        "id": "UCiCbYc2S6iC",
        "outputId": "4b06d2f3-6bf3-45d3-b54d-9b5398463062"
      },
      "outputs": [
        {
          "output_type": "execute_result",
          "data": {
            "text/plain": [
              "                    area  population  mean temperature  elevation  \\\n",
              "London          5.301176    4.163358          6.133039   4.114008   \n",
              "Paris           7.301497    5.663986          6.536677   4.860265   \n",
              "Beijing         3.572013    4.768751          5.326316   4.755084   \n",
              "Medellin        5.333749    2.629007          4.778700   4.442344   \n",
              "Port Elizabeth  5.169987    5.185967          4.510910   5.079223   \n",
              "\n",
              "                annual rainfall  \n",
              "London                 5.757567  \n",
              "Paris                  6.594457  \n",
              "Beijing                3.276080  \n",
              "Medellin               5.359831  \n",
              "Port Elizabeth         5.070662  "
            ],
            "text/html": [
              "<div>\n",
              "<style scoped>\n",
              "    .dataframe tbody tr th:only-of-type {\n",
              "        vertical-align: middle;\n",
              "    }\n",
              "\n",
              "    .dataframe tbody tr th {\n",
              "        vertical-align: top;\n",
              "    }\n",
              "\n",
              "    .dataframe thead th {\n",
              "        text-align: right;\n",
              "    }\n",
              "</style>\n",
              "<table border=\"1\" class=\"dataframe\">\n",
              "  <thead>\n",
              "    <tr style=\"text-align: right;\">\n",
              "      <th></th>\n",
              "      <th>area</th>\n",
              "      <th>population</th>\n",
              "      <th>mean temperature</th>\n",
              "      <th>elevation</th>\n",
              "      <th>annual rainfall</th>\n",
              "    </tr>\n",
              "  </thead>\n",
              "  <tbody>\n",
              "    <tr>\n",
              "      <th>London</th>\n",
              "      <td>5.301176</td>\n",
              "      <td>4.163358</td>\n",
              "      <td>6.133039</td>\n",
              "      <td>4.114008</td>\n",
              "      <td>5.757567</td>\n",
              "    </tr>\n",
              "    <tr>\n",
              "      <th>Paris</th>\n",
              "      <td>7.301497</td>\n",
              "      <td>5.663986</td>\n",
              "      <td>6.536677</td>\n",
              "      <td>4.860265</td>\n",
              "      <td>6.594457</td>\n",
              "    </tr>\n",
              "    <tr>\n",
              "      <th>Beijing</th>\n",
              "      <td>3.572013</td>\n",
              "      <td>4.768751</td>\n",
              "      <td>5.326316</td>\n",
              "      <td>4.755084</td>\n",
              "      <td>3.276080</td>\n",
              "    </tr>\n",
              "    <tr>\n",
              "      <th>Medellin</th>\n",
              "      <td>5.333749</td>\n",
              "      <td>2.629007</td>\n",
              "      <td>4.778700</td>\n",
              "      <td>4.442344</td>\n",
              "      <td>5.359831</td>\n",
              "    </tr>\n",
              "    <tr>\n",
              "      <th>Port Elizabeth</th>\n",
              "      <td>5.169987</td>\n",
              "      <td>5.185967</td>\n",
              "      <td>4.510910</td>\n",
              "      <td>5.079223</td>\n",
              "      <td>5.070662</td>\n",
              "    </tr>\n",
              "  </tbody>\n",
              "</table>\n",
              "</div>"
            ]
          },
          "metadata": {},
          "execution_count": 13
        }
      ],
      "source": [
        "df1"
      ]
    },
    {
      "cell_type": "code",
      "execution_count": 14,
      "metadata": {
        "id": "q2MivfZPS6iF"
      },
      "outputs": [],
      "source": [
        "df2 = pd.DataFrame(5+np.random.randn(3, 5))\n",
        "df2.columns = ['area','population','mean temperature','elevation','annual rainfall']\n",
        "df2.index = ['Mumbai', 'Sydney', 'Boston']"
      ]
    },
    {
      "cell_type": "code",
      "execution_count": 15,
      "metadata": {
        "colab": {
          "base_uri": "https://localhost:8080/",
          "height": 143
        },
        "id": "57DmpIiAS6iH",
        "outputId": "c942be3c-3421-4061-8cf7-18fbf2596907"
      },
      "outputs": [
        {
          "output_type": "execute_result",
          "data": {
            "text/plain": [
              "            area  population  mean temperature  elevation  annual rainfall\n",
              "Mumbai  6.521967    5.808349          6.369975   4.837117         4.028545\n",
              "Sydney  4.596531    5.882400          5.604805   4.063960         6.703120\n",
              "Boston  6.074005    4.742919          7.393748   3.653075         3.296578"
            ],
            "text/html": [
              "<div>\n",
              "<style scoped>\n",
              "    .dataframe tbody tr th:only-of-type {\n",
              "        vertical-align: middle;\n",
              "    }\n",
              "\n",
              "    .dataframe tbody tr th {\n",
              "        vertical-align: top;\n",
              "    }\n",
              "\n",
              "    .dataframe thead th {\n",
              "        text-align: right;\n",
              "    }\n",
              "</style>\n",
              "<table border=\"1\" class=\"dataframe\">\n",
              "  <thead>\n",
              "    <tr style=\"text-align: right;\">\n",
              "      <th></th>\n",
              "      <th>area</th>\n",
              "      <th>population</th>\n",
              "      <th>mean temperature</th>\n",
              "      <th>elevation</th>\n",
              "      <th>annual rainfall</th>\n",
              "    </tr>\n",
              "  </thead>\n",
              "  <tbody>\n",
              "    <tr>\n",
              "      <th>Mumbai</th>\n",
              "      <td>6.521967</td>\n",
              "      <td>5.808349</td>\n",
              "      <td>6.369975</td>\n",
              "      <td>4.837117</td>\n",
              "      <td>4.028545</td>\n",
              "    </tr>\n",
              "    <tr>\n",
              "      <th>Sydney</th>\n",
              "      <td>4.596531</td>\n",
              "      <td>5.882400</td>\n",
              "      <td>5.604805</td>\n",
              "      <td>4.063960</td>\n",
              "      <td>6.703120</td>\n",
              "    </tr>\n",
              "    <tr>\n",
              "      <th>Boston</th>\n",
              "      <td>6.074005</td>\n",
              "      <td>4.742919</td>\n",
              "      <td>7.393748</td>\n",
              "      <td>3.653075</td>\n",
              "      <td>3.296578</td>\n",
              "    </tr>\n",
              "  </tbody>\n",
              "</table>\n",
              "</div>"
            ]
          },
          "metadata": {},
          "execution_count": 15
        }
      ],
      "source": [
        "df2"
      ]
    },
    {
      "cell_type": "code",
      "execution_count": 16,
      "metadata": {
        "id": "3kxmpWRDS6iK"
      },
      "outputs": [],
      "source": [
        "df3 = pd.concat([df1,df2])"
      ]
    },
    {
      "cell_type": "code",
      "execution_count": 17,
      "metadata": {
        "colab": {
          "base_uri": "https://localhost:8080/",
          "height": 300
        },
        "id": "5qSJVJEdS6iM",
        "outputId": "37f68b03-8026-4ae2-e590-b04acba874e4"
      },
      "outputs": [
        {
          "output_type": "execute_result",
          "data": {
            "text/plain": [
              "                    area  population  mean temperature  elevation  \\\n",
              "London          5.301176    4.163358          6.133039   4.114008   \n",
              "Paris           7.301497    5.663986          6.536677   4.860265   \n",
              "Beijing         3.572013    4.768751          5.326316   4.755084   \n",
              "Medellin        5.333749    2.629007          4.778700   4.442344   \n",
              "Port Elizabeth  5.169987    5.185967          4.510910   5.079223   \n",
              "Mumbai          6.521967    5.808349          6.369975   4.837117   \n",
              "Sydney          4.596531    5.882400          5.604805   4.063960   \n",
              "Boston          6.074005    4.742919          7.393748   3.653075   \n",
              "\n",
              "                annual rainfall  \n",
              "London                 5.757567  \n",
              "Paris                  6.594457  \n",
              "Beijing                3.276080  \n",
              "Medellin               5.359831  \n",
              "Port Elizabeth         5.070662  \n",
              "Mumbai                 4.028545  \n",
              "Sydney                 6.703120  \n",
              "Boston                 3.296578  "
            ],
            "text/html": [
              "<div>\n",
              "<style scoped>\n",
              "    .dataframe tbody tr th:only-of-type {\n",
              "        vertical-align: middle;\n",
              "    }\n",
              "\n",
              "    .dataframe tbody tr th {\n",
              "        vertical-align: top;\n",
              "    }\n",
              "\n",
              "    .dataframe thead th {\n",
              "        text-align: right;\n",
              "    }\n",
              "</style>\n",
              "<table border=\"1\" class=\"dataframe\">\n",
              "  <thead>\n",
              "    <tr style=\"text-align: right;\">\n",
              "      <th></th>\n",
              "      <th>area</th>\n",
              "      <th>population</th>\n",
              "      <th>mean temperature</th>\n",
              "      <th>elevation</th>\n",
              "      <th>annual rainfall</th>\n",
              "    </tr>\n",
              "  </thead>\n",
              "  <tbody>\n",
              "    <tr>\n",
              "      <th>London</th>\n",
              "      <td>5.301176</td>\n",
              "      <td>4.163358</td>\n",
              "      <td>6.133039</td>\n",
              "      <td>4.114008</td>\n",
              "      <td>5.757567</td>\n",
              "    </tr>\n",
              "    <tr>\n",
              "      <th>Paris</th>\n",
              "      <td>7.301497</td>\n",
              "      <td>5.663986</td>\n",
              "      <td>6.536677</td>\n",
              "      <td>4.860265</td>\n",
              "      <td>6.594457</td>\n",
              "    </tr>\n",
              "    <tr>\n",
              "      <th>Beijing</th>\n",
              "      <td>3.572013</td>\n",
              "      <td>4.768751</td>\n",
              "      <td>5.326316</td>\n",
              "      <td>4.755084</td>\n",
              "      <td>3.276080</td>\n",
              "    </tr>\n",
              "    <tr>\n",
              "      <th>Medellin</th>\n",
              "      <td>5.333749</td>\n",
              "      <td>2.629007</td>\n",
              "      <td>4.778700</td>\n",
              "      <td>4.442344</td>\n",
              "      <td>5.359831</td>\n",
              "    </tr>\n",
              "    <tr>\n",
              "      <th>Port Elizabeth</th>\n",
              "      <td>5.169987</td>\n",
              "      <td>5.185967</td>\n",
              "      <td>4.510910</td>\n",
              "      <td>5.079223</td>\n",
              "      <td>5.070662</td>\n",
              "    </tr>\n",
              "    <tr>\n",
              "      <th>Mumbai</th>\n",
              "      <td>6.521967</td>\n",
              "      <td>5.808349</td>\n",
              "      <td>6.369975</td>\n",
              "      <td>4.837117</td>\n",
              "      <td>4.028545</td>\n",
              "    </tr>\n",
              "    <tr>\n",
              "      <th>Sydney</th>\n",
              "      <td>4.596531</td>\n",
              "      <td>5.882400</td>\n",
              "      <td>5.604805</td>\n",
              "      <td>4.063960</td>\n",
              "      <td>6.703120</td>\n",
              "    </tr>\n",
              "    <tr>\n",
              "      <th>Boston</th>\n",
              "      <td>6.074005</td>\n",
              "      <td>4.742919</td>\n",
              "      <td>7.393748</td>\n",
              "      <td>3.653075</td>\n",
              "      <td>3.296578</td>\n",
              "    </tr>\n",
              "  </tbody>\n",
              "</table>\n",
              "</div>"
            ]
          },
          "metadata": {},
          "execution_count": 17
        }
      ],
      "source": [
        "df3"
      ]
    },
    {
      "cell_type": "markdown",
      "metadata": {
        "id": "K1VdYJJ1S6iO"
      },
      "source": [
        "## Exercise: Concat continued\n",
        "\n",
        "Repeat the above for fictitious values for New York, Tokyo, Manila and Budapest - concatenate into a new dataframe \"df\"."
      ]
    },
    {
      "cell_type": "markdown",
      "metadata": {
        "id": "_V4E81NFS6iO"
      },
      "source": [
        "## Combining on Attributes\n",
        "\n",
        "What if we're looking at the same locations but different attributes? Consider the same df1"
      ]
    },
    {
      "cell_type": "code",
      "execution_count": 18,
      "metadata": {
        "id": "RY6pB5VNS6iO"
      },
      "outputs": [],
      "source": [
        "df1 = pd.DataFrame(5+np.random.randn(5, 5))\n",
        "df1.columns = ['area','population','mean temperature','elevation','annual rainfall']\n",
        "df1.index = ['London', 'Paris', 'Beijing', 'Medellin', 'Port Elizabeth']"
      ]
    },
    {
      "cell_type": "code",
      "execution_count": 19,
      "metadata": {
        "colab": {
          "base_uri": "https://localhost:8080/",
          "height": 206
        },
        "id": "RUhGQIVKS6iQ",
        "outputId": "d796f00d-918d-40fe-ee69-454273f36502"
      },
      "outputs": [
        {
          "output_type": "execute_result",
          "data": {
            "text/plain": [
              "                    area  population  mean temperature  elevation  \\\n",
              "London          6.008505    5.050713          5.648044   5.403353   \n",
              "Paris           4.594648    5.035888          6.571545   4.665140   \n",
              "Beijing         4.250896    5.543684          4.434948   6.400570   \n",
              "Medellin        6.694565    4.595692          3.367300   5.656350   \n",
              "Port Elizabeth  5.522294    4.452590          3.365878   5.551249   \n",
              "\n",
              "                annual rainfall  \n",
              "London                 4.282473  \n",
              "Paris                  4.353959  \n",
              "Beijing                4.989308  \n",
              "Medellin               3.901096  \n",
              "Port Elizabeth         4.898966  "
            ],
            "text/html": [
              "<div>\n",
              "<style scoped>\n",
              "    .dataframe tbody tr th:only-of-type {\n",
              "        vertical-align: middle;\n",
              "    }\n",
              "\n",
              "    .dataframe tbody tr th {\n",
              "        vertical-align: top;\n",
              "    }\n",
              "\n",
              "    .dataframe thead th {\n",
              "        text-align: right;\n",
              "    }\n",
              "</style>\n",
              "<table border=\"1\" class=\"dataframe\">\n",
              "  <thead>\n",
              "    <tr style=\"text-align: right;\">\n",
              "      <th></th>\n",
              "      <th>area</th>\n",
              "      <th>population</th>\n",
              "      <th>mean temperature</th>\n",
              "      <th>elevation</th>\n",
              "      <th>annual rainfall</th>\n",
              "    </tr>\n",
              "  </thead>\n",
              "  <tbody>\n",
              "    <tr>\n",
              "      <th>London</th>\n",
              "      <td>6.008505</td>\n",
              "      <td>5.050713</td>\n",
              "      <td>5.648044</td>\n",
              "      <td>5.403353</td>\n",
              "      <td>4.282473</td>\n",
              "    </tr>\n",
              "    <tr>\n",
              "      <th>Paris</th>\n",
              "      <td>4.594648</td>\n",
              "      <td>5.035888</td>\n",
              "      <td>6.571545</td>\n",
              "      <td>4.665140</td>\n",
              "      <td>4.353959</td>\n",
              "    </tr>\n",
              "    <tr>\n",
              "      <th>Beijing</th>\n",
              "      <td>4.250896</td>\n",
              "      <td>5.543684</td>\n",
              "      <td>4.434948</td>\n",
              "      <td>6.400570</td>\n",
              "      <td>4.989308</td>\n",
              "    </tr>\n",
              "    <tr>\n",
              "      <th>Medellin</th>\n",
              "      <td>6.694565</td>\n",
              "      <td>4.595692</td>\n",
              "      <td>3.367300</td>\n",
              "      <td>5.656350</td>\n",
              "      <td>3.901096</td>\n",
              "    </tr>\n",
              "    <tr>\n",
              "      <th>Port Elizabeth</th>\n",
              "      <td>5.522294</td>\n",
              "      <td>4.452590</td>\n",
              "      <td>3.365878</td>\n",
              "      <td>5.551249</td>\n",
              "      <td>4.898966</td>\n",
              "    </tr>\n",
              "  </tbody>\n",
              "</table>\n",
              "</div>"
            ]
          },
          "metadata": {},
          "execution_count": 19
        }
      ],
      "source": [
        "df1"
      ]
    },
    {
      "cell_type": "markdown",
      "metadata": {
        "id": "mIL7nRfIS6iS"
      },
      "source": [
        "But a new dataframe df4, which details the same locations, but has different information about them:"
      ]
    },
    {
      "cell_type": "code",
      "execution_count": 20,
      "metadata": {
        "id": "Iegqp8xGS6iS"
      },
      "outputs": [],
      "source": [
        "df4 = pd.DataFrame(5+np.random.randn(5, 3))\n",
        "df4.columns = ['Mean House Price', 'median income','walkability score']\n",
        "df4.index = ['London', 'Paris', 'Beijing', 'Medellin', 'Port Elizabeth']"
      ]
    },
    {
      "cell_type": "code",
      "execution_count": 21,
      "metadata": {
        "colab": {
          "base_uri": "https://localhost:8080/",
          "height": 206
        },
        "id": "rbAmWwAQS6iV",
        "outputId": "f6c4bb25-ae56-4836-fe43-52c4f349f932"
      },
      "outputs": [
        {
          "output_type": "execute_result",
          "data": {
            "text/plain": [
              "                Mean House Price  median income  walkability score\n",
              "London                  4.319516       3.612302           4.932994\n",
              "Paris                   5.616465       4.850855           4.539352\n",
              "Beijing                 3.116930       6.705907           3.385757\n",
              "Medellin                5.745673       6.457855           5.472979\n",
              "Port Elizabeth          5.597125       5.633890           4.841889"
            ],
            "text/html": [
              "<div>\n",
              "<style scoped>\n",
              "    .dataframe tbody tr th:only-of-type {\n",
              "        vertical-align: middle;\n",
              "    }\n",
              "\n",
              "    .dataframe tbody tr th {\n",
              "        vertical-align: top;\n",
              "    }\n",
              "\n",
              "    .dataframe thead th {\n",
              "        text-align: right;\n",
              "    }\n",
              "</style>\n",
              "<table border=\"1\" class=\"dataframe\">\n",
              "  <thead>\n",
              "    <tr style=\"text-align: right;\">\n",
              "      <th></th>\n",
              "      <th>Mean House Price</th>\n",
              "      <th>median income</th>\n",
              "      <th>walkability score</th>\n",
              "    </tr>\n",
              "  </thead>\n",
              "  <tbody>\n",
              "    <tr>\n",
              "      <th>London</th>\n",
              "      <td>4.319516</td>\n",
              "      <td>3.612302</td>\n",
              "      <td>4.932994</td>\n",
              "    </tr>\n",
              "    <tr>\n",
              "      <th>Paris</th>\n",
              "      <td>5.616465</td>\n",
              "      <td>4.850855</td>\n",
              "      <td>4.539352</td>\n",
              "    </tr>\n",
              "    <tr>\n",
              "      <th>Beijing</th>\n",
              "      <td>3.116930</td>\n",
              "      <td>6.705907</td>\n",
              "      <td>3.385757</td>\n",
              "    </tr>\n",
              "    <tr>\n",
              "      <th>Medellin</th>\n",
              "      <td>5.745673</td>\n",
              "      <td>6.457855</td>\n",
              "      <td>5.472979</td>\n",
              "    </tr>\n",
              "    <tr>\n",
              "      <th>Port Elizabeth</th>\n",
              "      <td>5.597125</td>\n",
              "      <td>5.633890</td>\n",
              "      <td>4.841889</td>\n",
              "    </tr>\n",
              "  </tbody>\n",
              "</table>\n",
              "</div>"
            ]
          },
          "metadata": {},
          "execution_count": 21
        }
      ],
      "source": [
        "df4"
      ]
    },
    {
      "cell_type": "markdown",
      "metadata": {
        "id": "0qqCGLRNS6iX"
      },
      "source": [
        "We have to join \"on\" the index - meaning when merging the records, python will look at the index column."
      ]
    },
    {
      "cell_type": "code",
      "execution_count": 22,
      "metadata": {
        "id": "WYmpWEtDS6iY"
      },
      "outputs": [],
      "source": [
        "df_joined = df1.merge(df4, left_index=True, right_index=True)"
      ]
    },
    {
      "cell_type": "code",
      "execution_count": 23,
      "metadata": {
        "colab": {
          "base_uri": "https://localhost:8080/",
          "height": 206
        },
        "id": "vza_xrYaS6ic",
        "outputId": "5617264c-3a3f-42da-a677-aa6979ad22c9"
      },
      "outputs": [
        {
          "output_type": "execute_result",
          "data": {
            "text/plain": [
              "                    area  population  mean temperature  elevation  \\\n",
              "London          6.008505    5.050713          5.648044   5.403353   \n",
              "Paris           4.594648    5.035888          6.571545   4.665140   \n",
              "Beijing         4.250896    5.543684          4.434948   6.400570   \n",
              "Medellin        6.694565    4.595692          3.367300   5.656350   \n",
              "Port Elizabeth  5.522294    4.452590          3.365878   5.551249   \n",
              "\n",
              "                annual rainfall  Mean House Price  median income  \\\n",
              "London                 4.282473          4.319516       3.612302   \n",
              "Paris                  4.353959          5.616465       4.850855   \n",
              "Beijing                4.989308          3.116930       6.705907   \n",
              "Medellin               3.901096          5.745673       6.457855   \n",
              "Port Elizabeth         4.898966          5.597125       5.633890   \n",
              "\n",
              "                walkability score  \n",
              "London                   4.932994  \n",
              "Paris                    4.539352  \n",
              "Beijing                  3.385757  \n",
              "Medellin                 5.472979  \n",
              "Port Elizabeth           4.841889  "
            ],
            "text/html": [
              "<div>\n",
              "<style scoped>\n",
              "    .dataframe tbody tr th:only-of-type {\n",
              "        vertical-align: middle;\n",
              "    }\n",
              "\n",
              "    .dataframe tbody tr th {\n",
              "        vertical-align: top;\n",
              "    }\n",
              "\n",
              "    .dataframe thead th {\n",
              "        text-align: right;\n",
              "    }\n",
              "</style>\n",
              "<table border=\"1\" class=\"dataframe\">\n",
              "  <thead>\n",
              "    <tr style=\"text-align: right;\">\n",
              "      <th></th>\n",
              "      <th>area</th>\n",
              "      <th>population</th>\n",
              "      <th>mean temperature</th>\n",
              "      <th>elevation</th>\n",
              "      <th>annual rainfall</th>\n",
              "      <th>Mean House Price</th>\n",
              "      <th>median income</th>\n",
              "      <th>walkability score</th>\n",
              "    </tr>\n",
              "  </thead>\n",
              "  <tbody>\n",
              "    <tr>\n",
              "      <th>London</th>\n",
              "      <td>6.008505</td>\n",
              "      <td>5.050713</td>\n",
              "      <td>5.648044</td>\n",
              "      <td>5.403353</td>\n",
              "      <td>4.282473</td>\n",
              "      <td>4.319516</td>\n",
              "      <td>3.612302</td>\n",
              "      <td>4.932994</td>\n",
              "    </tr>\n",
              "    <tr>\n",
              "      <th>Paris</th>\n",
              "      <td>4.594648</td>\n",
              "      <td>5.035888</td>\n",
              "      <td>6.571545</td>\n",
              "      <td>4.665140</td>\n",
              "      <td>4.353959</td>\n",
              "      <td>5.616465</td>\n",
              "      <td>4.850855</td>\n",
              "      <td>4.539352</td>\n",
              "    </tr>\n",
              "    <tr>\n",
              "      <th>Beijing</th>\n",
              "      <td>4.250896</td>\n",
              "      <td>5.543684</td>\n",
              "      <td>4.434948</td>\n",
              "      <td>6.400570</td>\n",
              "      <td>4.989308</td>\n",
              "      <td>3.116930</td>\n",
              "      <td>6.705907</td>\n",
              "      <td>3.385757</td>\n",
              "    </tr>\n",
              "    <tr>\n",
              "      <th>Medellin</th>\n",
              "      <td>6.694565</td>\n",
              "      <td>4.595692</td>\n",
              "      <td>3.367300</td>\n",
              "      <td>5.656350</td>\n",
              "      <td>3.901096</td>\n",
              "      <td>5.745673</td>\n",
              "      <td>6.457855</td>\n",
              "      <td>5.472979</td>\n",
              "    </tr>\n",
              "    <tr>\n",
              "      <th>Port Elizabeth</th>\n",
              "      <td>5.522294</td>\n",
              "      <td>4.452590</td>\n",
              "      <td>3.365878</td>\n",
              "      <td>5.551249</td>\n",
              "      <td>4.898966</td>\n",
              "      <td>5.597125</td>\n",
              "      <td>5.633890</td>\n",
              "      <td>4.841889</td>\n",
              "    </tr>\n",
              "  </tbody>\n",
              "</table>\n",
              "</div>"
            ]
          },
          "metadata": {},
          "execution_count": 23
        }
      ],
      "source": [
        "df_joined"
      ]
    },
    {
      "cell_type": "markdown",
      "metadata": {
        "id": "EooLXZTQS6ie"
      },
      "source": [
        "Note that this joins on the *index*, not the row number - so if the order of elements in df4 is different, it should still work."
      ]
    },
    {
      "cell_type": "code",
      "execution_count": 24,
      "metadata": {
        "id": "n_91cClkS6ie"
      },
      "outputs": [],
      "source": [
        "df4 = pd.DataFrame(np.random.randn(5, 3))\n",
        "df4.columns = ['Mean House Price', 'median income','walkability score']\n",
        "df4.index = ['Paris','Port Elizabeth', 'Beijing', 'Medellin', 'London']"
      ]
    },
    {
      "cell_type": "code",
      "execution_count": 25,
      "metadata": {
        "colab": {
          "base_uri": "https://localhost:8080/",
          "height": 206
        },
        "id": "mqMP2oAXS6ig",
        "outputId": "279c3c7d-8bf6-47ea-d088-a49355cb4995"
      },
      "outputs": [
        {
          "output_type": "execute_result",
          "data": {
            "text/plain": [
              "                    area  population  mean temperature  elevation  \\\n",
              "London          6.008505    5.050713          5.648044   5.403353   \n",
              "Paris           4.594648    5.035888          6.571545   4.665140   \n",
              "Beijing         4.250896    5.543684          4.434948   6.400570   \n",
              "Medellin        6.694565    4.595692          3.367300   5.656350   \n",
              "Port Elizabeth  5.522294    4.452590          3.365878   5.551249   \n",
              "\n",
              "                annual rainfall  \n",
              "London                 4.282473  \n",
              "Paris                  4.353959  \n",
              "Beijing                4.989308  \n",
              "Medellin               3.901096  \n",
              "Port Elizabeth         4.898966  "
            ],
            "text/html": [
              "<div>\n",
              "<style scoped>\n",
              "    .dataframe tbody tr th:only-of-type {\n",
              "        vertical-align: middle;\n",
              "    }\n",
              "\n",
              "    .dataframe tbody tr th {\n",
              "        vertical-align: top;\n",
              "    }\n",
              "\n",
              "    .dataframe thead th {\n",
              "        text-align: right;\n",
              "    }\n",
              "</style>\n",
              "<table border=\"1\" class=\"dataframe\">\n",
              "  <thead>\n",
              "    <tr style=\"text-align: right;\">\n",
              "      <th></th>\n",
              "      <th>area</th>\n",
              "      <th>population</th>\n",
              "      <th>mean temperature</th>\n",
              "      <th>elevation</th>\n",
              "      <th>annual rainfall</th>\n",
              "    </tr>\n",
              "  </thead>\n",
              "  <tbody>\n",
              "    <tr>\n",
              "      <th>London</th>\n",
              "      <td>6.008505</td>\n",
              "      <td>5.050713</td>\n",
              "      <td>5.648044</td>\n",
              "      <td>5.403353</td>\n",
              "      <td>4.282473</td>\n",
              "    </tr>\n",
              "    <tr>\n",
              "      <th>Paris</th>\n",
              "      <td>4.594648</td>\n",
              "      <td>5.035888</td>\n",
              "      <td>6.571545</td>\n",
              "      <td>4.665140</td>\n",
              "      <td>4.353959</td>\n",
              "    </tr>\n",
              "    <tr>\n",
              "      <th>Beijing</th>\n",
              "      <td>4.250896</td>\n",
              "      <td>5.543684</td>\n",
              "      <td>4.434948</td>\n",
              "      <td>6.400570</td>\n",
              "      <td>4.989308</td>\n",
              "    </tr>\n",
              "    <tr>\n",
              "      <th>Medellin</th>\n",
              "      <td>6.694565</td>\n",
              "      <td>4.595692</td>\n",
              "      <td>3.367300</td>\n",
              "      <td>5.656350</td>\n",
              "      <td>3.901096</td>\n",
              "    </tr>\n",
              "    <tr>\n",
              "      <th>Port Elizabeth</th>\n",
              "      <td>5.522294</td>\n",
              "      <td>4.452590</td>\n",
              "      <td>3.365878</td>\n",
              "      <td>5.551249</td>\n",
              "      <td>4.898966</td>\n",
              "    </tr>\n",
              "  </tbody>\n",
              "</table>\n",
              "</div>"
            ]
          },
          "metadata": {},
          "execution_count": 25
        }
      ],
      "source": [
        "df1"
      ]
    },
    {
      "cell_type": "code",
      "execution_count": 26,
      "metadata": {
        "colab": {
          "base_uri": "https://localhost:8080/",
          "height": 206
        },
        "id": "A8NaT1CUS6ii",
        "outputId": "c300cb49-ef70-4a0c-b6fc-da8660a9ac75"
      },
      "outputs": [
        {
          "output_type": "execute_result",
          "data": {
            "text/plain": [
              "                Mean House Price  median income  walkability score\n",
              "Paris                  -1.039095      -0.513455          -1.685239\n",
              "Port Elizabeth          1.208338      -0.382468          -0.339808\n",
              "Beijing                 0.063724      -0.858039           1.475264\n",
              "Medellin               -0.231399      -0.771612           0.852653\n",
              "London                  0.507717      -0.026086          -1.791826"
            ],
            "text/html": [
              "<div>\n",
              "<style scoped>\n",
              "    .dataframe tbody tr th:only-of-type {\n",
              "        vertical-align: middle;\n",
              "    }\n",
              "\n",
              "    .dataframe tbody tr th {\n",
              "        vertical-align: top;\n",
              "    }\n",
              "\n",
              "    .dataframe thead th {\n",
              "        text-align: right;\n",
              "    }\n",
              "</style>\n",
              "<table border=\"1\" class=\"dataframe\">\n",
              "  <thead>\n",
              "    <tr style=\"text-align: right;\">\n",
              "      <th></th>\n",
              "      <th>Mean House Price</th>\n",
              "      <th>median income</th>\n",
              "      <th>walkability score</th>\n",
              "    </tr>\n",
              "  </thead>\n",
              "  <tbody>\n",
              "    <tr>\n",
              "      <th>Paris</th>\n",
              "      <td>-1.039095</td>\n",
              "      <td>-0.513455</td>\n",
              "      <td>-1.685239</td>\n",
              "    </tr>\n",
              "    <tr>\n",
              "      <th>Port Elizabeth</th>\n",
              "      <td>1.208338</td>\n",
              "      <td>-0.382468</td>\n",
              "      <td>-0.339808</td>\n",
              "    </tr>\n",
              "    <tr>\n",
              "      <th>Beijing</th>\n",
              "      <td>0.063724</td>\n",
              "      <td>-0.858039</td>\n",
              "      <td>1.475264</td>\n",
              "    </tr>\n",
              "    <tr>\n",
              "      <th>Medellin</th>\n",
              "      <td>-0.231399</td>\n",
              "      <td>-0.771612</td>\n",
              "      <td>0.852653</td>\n",
              "    </tr>\n",
              "    <tr>\n",
              "      <th>London</th>\n",
              "      <td>0.507717</td>\n",
              "      <td>-0.026086</td>\n",
              "      <td>-1.791826</td>\n",
              "    </tr>\n",
              "  </tbody>\n",
              "</table>\n",
              "</div>"
            ]
          },
          "metadata": {},
          "execution_count": 26
        }
      ],
      "source": [
        "df4"
      ]
    },
    {
      "cell_type": "code",
      "execution_count": 27,
      "metadata": {
        "id": "w2x9D_uqS6ik"
      },
      "outputs": [],
      "source": [
        "df_joined = df1.merge(df4, left_index=True, right_index=True)"
      ]
    },
    {
      "cell_type": "code",
      "execution_count": 28,
      "metadata": {
        "colab": {
          "base_uri": "https://localhost:8080/",
          "height": 206
        },
        "id": "id3wkaJ-S6im",
        "outputId": "a812bf02-ddab-41d4-b527-38d38f79c35f"
      },
      "outputs": [
        {
          "output_type": "execute_result",
          "data": {
            "text/plain": [
              "                    area  population  mean temperature  elevation  \\\n",
              "London          6.008505    5.050713          5.648044   5.403353   \n",
              "Paris           4.594648    5.035888          6.571545   4.665140   \n",
              "Beijing         4.250896    5.543684          4.434948   6.400570   \n",
              "Medellin        6.694565    4.595692          3.367300   5.656350   \n",
              "Port Elizabeth  5.522294    4.452590          3.365878   5.551249   \n",
              "\n",
              "                annual rainfall  Mean House Price  median income  \\\n",
              "London                 4.282473          0.507717      -0.026086   \n",
              "Paris                  4.353959         -1.039095      -0.513455   \n",
              "Beijing                4.989308          0.063724      -0.858039   \n",
              "Medellin               3.901096         -0.231399      -0.771612   \n",
              "Port Elizabeth         4.898966          1.208338      -0.382468   \n",
              "\n",
              "                walkability score  \n",
              "London                  -1.791826  \n",
              "Paris                   -1.685239  \n",
              "Beijing                  1.475264  \n",
              "Medellin                 0.852653  \n",
              "Port Elizabeth          -0.339808  "
            ],
            "text/html": [
              "<div>\n",
              "<style scoped>\n",
              "    .dataframe tbody tr th:only-of-type {\n",
              "        vertical-align: middle;\n",
              "    }\n",
              "\n",
              "    .dataframe tbody tr th {\n",
              "        vertical-align: top;\n",
              "    }\n",
              "\n",
              "    .dataframe thead th {\n",
              "        text-align: right;\n",
              "    }\n",
              "</style>\n",
              "<table border=\"1\" class=\"dataframe\">\n",
              "  <thead>\n",
              "    <tr style=\"text-align: right;\">\n",
              "      <th></th>\n",
              "      <th>area</th>\n",
              "      <th>population</th>\n",
              "      <th>mean temperature</th>\n",
              "      <th>elevation</th>\n",
              "      <th>annual rainfall</th>\n",
              "      <th>Mean House Price</th>\n",
              "      <th>median income</th>\n",
              "      <th>walkability score</th>\n",
              "    </tr>\n",
              "  </thead>\n",
              "  <tbody>\n",
              "    <tr>\n",
              "      <th>London</th>\n",
              "      <td>6.008505</td>\n",
              "      <td>5.050713</td>\n",
              "      <td>5.648044</td>\n",
              "      <td>5.403353</td>\n",
              "      <td>4.282473</td>\n",
              "      <td>0.507717</td>\n",
              "      <td>-0.026086</td>\n",
              "      <td>-1.791826</td>\n",
              "    </tr>\n",
              "    <tr>\n",
              "      <th>Paris</th>\n",
              "      <td>4.594648</td>\n",
              "      <td>5.035888</td>\n",
              "      <td>6.571545</td>\n",
              "      <td>4.665140</td>\n",
              "      <td>4.353959</td>\n",
              "      <td>-1.039095</td>\n",
              "      <td>-0.513455</td>\n",
              "      <td>-1.685239</td>\n",
              "    </tr>\n",
              "    <tr>\n",
              "      <th>Beijing</th>\n",
              "      <td>4.250896</td>\n",
              "      <td>5.543684</td>\n",
              "      <td>4.434948</td>\n",
              "      <td>6.400570</td>\n",
              "      <td>4.989308</td>\n",
              "      <td>0.063724</td>\n",
              "      <td>-0.858039</td>\n",
              "      <td>1.475264</td>\n",
              "    </tr>\n",
              "    <tr>\n",
              "      <th>Medellin</th>\n",
              "      <td>6.694565</td>\n",
              "      <td>4.595692</td>\n",
              "      <td>3.367300</td>\n",
              "      <td>5.656350</td>\n",
              "      <td>3.901096</td>\n",
              "      <td>-0.231399</td>\n",
              "      <td>-0.771612</td>\n",
              "      <td>0.852653</td>\n",
              "    </tr>\n",
              "    <tr>\n",
              "      <th>Port Elizabeth</th>\n",
              "      <td>5.522294</td>\n",
              "      <td>4.452590</td>\n",
              "      <td>3.365878</td>\n",
              "      <td>5.551249</td>\n",
              "      <td>4.898966</td>\n",
              "      <td>1.208338</td>\n",
              "      <td>-0.382468</td>\n",
              "      <td>-0.339808</td>\n",
              "    </tr>\n",
              "  </tbody>\n",
              "</table>\n",
              "</div>"
            ]
          },
          "metadata": {},
          "execution_count": 28
        }
      ],
      "source": [
        "df_joined"
      ]
    },
    {
      "cell_type": "markdown",
      "metadata": {
        "id": "3K9QAAtIS6io"
      },
      "source": [
        "## Merge Records\n",
        "Consider now a case where we have data for some but not all cities; so df1 stil has data for these 5 cities:"
      ]
    },
    {
      "cell_type": "code",
      "execution_count": 29,
      "metadata": {
        "colab": {
          "base_uri": "https://localhost:8080/",
          "height": 206
        },
        "id": "3wuan3iVS6ip",
        "outputId": "7ce200f8-34d3-40e6-a964-f7eea3046a1c"
      },
      "outputs": [
        {
          "output_type": "execute_result",
          "data": {
            "text/plain": [
              "                    area  population  mean temperature  elevation  \\\n",
              "London          6.008505    5.050713          5.648044   5.403353   \n",
              "Paris           4.594648    5.035888          6.571545   4.665140   \n",
              "Beijing         4.250896    5.543684          4.434948   6.400570   \n",
              "Medellin        6.694565    4.595692          3.367300   5.656350   \n",
              "Port Elizabeth  5.522294    4.452590          3.365878   5.551249   \n",
              "\n",
              "                annual rainfall  \n",
              "London                 4.282473  \n",
              "Paris                  4.353959  \n",
              "Beijing                4.989308  \n",
              "Medellin               3.901096  \n",
              "Port Elizabeth         4.898966  "
            ],
            "text/html": [
              "<div>\n",
              "<style scoped>\n",
              "    .dataframe tbody tr th:only-of-type {\n",
              "        vertical-align: middle;\n",
              "    }\n",
              "\n",
              "    .dataframe tbody tr th {\n",
              "        vertical-align: top;\n",
              "    }\n",
              "\n",
              "    .dataframe thead th {\n",
              "        text-align: right;\n",
              "    }\n",
              "</style>\n",
              "<table border=\"1\" class=\"dataframe\">\n",
              "  <thead>\n",
              "    <tr style=\"text-align: right;\">\n",
              "      <th></th>\n",
              "      <th>area</th>\n",
              "      <th>population</th>\n",
              "      <th>mean temperature</th>\n",
              "      <th>elevation</th>\n",
              "      <th>annual rainfall</th>\n",
              "    </tr>\n",
              "  </thead>\n",
              "  <tbody>\n",
              "    <tr>\n",
              "      <th>London</th>\n",
              "      <td>6.008505</td>\n",
              "      <td>5.050713</td>\n",
              "      <td>5.648044</td>\n",
              "      <td>5.403353</td>\n",
              "      <td>4.282473</td>\n",
              "    </tr>\n",
              "    <tr>\n",
              "      <th>Paris</th>\n",
              "      <td>4.594648</td>\n",
              "      <td>5.035888</td>\n",
              "      <td>6.571545</td>\n",
              "      <td>4.665140</td>\n",
              "      <td>4.353959</td>\n",
              "    </tr>\n",
              "    <tr>\n",
              "      <th>Beijing</th>\n",
              "      <td>4.250896</td>\n",
              "      <td>5.543684</td>\n",
              "      <td>4.434948</td>\n",
              "      <td>6.400570</td>\n",
              "      <td>4.989308</td>\n",
              "    </tr>\n",
              "    <tr>\n",
              "      <th>Medellin</th>\n",
              "      <td>6.694565</td>\n",
              "      <td>4.595692</td>\n",
              "      <td>3.367300</td>\n",
              "      <td>5.656350</td>\n",
              "      <td>3.901096</td>\n",
              "    </tr>\n",
              "    <tr>\n",
              "      <th>Port Elizabeth</th>\n",
              "      <td>5.522294</td>\n",
              "      <td>4.452590</td>\n",
              "      <td>3.365878</td>\n",
              "      <td>5.551249</td>\n",
              "      <td>4.898966</td>\n",
              "    </tr>\n",
              "  </tbody>\n",
              "</table>\n",
              "</div>"
            ]
          },
          "metadata": {},
          "execution_count": 29
        }
      ],
      "source": [
        "df1"
      ]
    },
    {
      "cell_type": "markdown",
      "metadata": {
        "id": "Hb9KFYoWS6ir"
      },
      "source": [
        "But our new table, df5, contains data for three cities:"
      ]
    },
    {
      "cell_type": "code",
      "execution_count": 30,
      "metadata": {
        "id": "HF4QTxXyS6ir"
      },
      "outputs": [],
      "source": [
        "df5 = pd.DataFrame(5+np.random.randn(3, 3))\n",
        "df5.columns = ['Mean House Price', 'median income','walkability score']\n",
        "df5.index = ['London', 'Paris', 'Glasgow']"
      ]
    },
    {
      "cell_type": "code",
      "execution_count": 31,
      "metadata": {
        "colab": {
          "base_uri": "https://localhost:8080/",
          "height": 143
        },
        "id": "XDqn6RpqS6it",
        "outputId": "993ae5f1-1324-40cd-893a-41d74b2f08db"
      },
      "outputs": [
        {
          "output_type": "execute_result",
          "data": {
            "text/plain": [
              "         Mean House Price  median income  walkability score\n",
              "London           4.820946       6.310598           3.622868\n",
              "Paris            4.611911       5.076701           4.705411\n",
              "Glasgow          5.643343       5.250263           6.141020"
            ],
            "text/html": [
              "<div>\n",
              "<style scoped>\n",
              "    .dataframe tbody tr th:only-of-type {\n",
              "        vertical-align: middle;\n",
              "    }\n",
              "\n",
              "    .dataframe tbody tr th {\n",
              "        vertical-align: top;\n",
              "    }\n",
              "\n",
              "    .dataframe thead th {\n",
              "        text-align: right;\n",
              "    }\n",
              "</style>\n",
              "<table border=\"1\" class=\"dataframe\">\n",
              "  <thead>\n",
              "    <tr style=\"text-align: right;\">\n",
              "      <th></th>\n",
              "      <th>Mean House Price</th>\n",
              "      <th>median income</th>\n",
              "      <th>walkability score</th>\n",
              "    </tr>\n",
              "  </thead>\n",
              "  <tbody>\n",
              "    <tr>\n",
              "      <th>London</th>\n",
              "      <td>4.820946</td>\n",
              "      <td>6.310598</td>\n",
              "      <td>3.622868</td>\n",
              "    </tr>\n",
              "    <tr>\n",
              "      <th>Paris</th>\n",
              "      <td>4.611911</td>\n",
              "      <td>5.076701</td>\n",
              "      <td>4.705411</td>\n",
              "    </tr>\n",
              "    <tr>\n",
              "      <th>Glasgow</th>\n",
              "      <td>5.643343</td>\n",
              "      <td>5.250263</td>\n",
              "      <td>6.141020</td>\n",
              "    </tr>\n",
              "  </tbody>\n",
              "</table>\n",
              "</div>"
            ]
          },
          "metadata": {},
          "execution_count": 31
        }
      ],
      "source": [
        "df5"
      ]
    },
    {
      "cell_type": "markdown",
      "metadata": {
        "id": "p-nMMNZkS6iu"
      },
      "source": [
        "## Exercise:\n",
        "\n",
        "How many cities appear in:\n",
        "- both dataframes\n",
        "- only df1\n",
        "- only df5\n",
        "- neither df1 nor df5?"
      ]
    },
    {
      "cell_type": "markdown",
      "metadata": {
        "id": "7jbHLNWJS6iu"
      },
      "source": [
        "## Way Back Venn\n",
        "\n",
        "What is the mechanism for joining data where these mismatches exist? Well, there are several, starting with the..."
      ]
    },
    {
      "cell_type": "markdown",
      "metadata": {
        "id": "XjGv-0WiS6iv"
      },
      "source": [
        "## Inner Join:"
      ]
    },
    {
      "cell_type": "code",
      "execution_count": 35,
      "metadata": {
        "colab": {
          "base_uri": "https://localhost:8080/",
          "height": 1000
        },
        "id": "3tm0ueElS6iv",
        "outputId": "f9bec8ae-571f-4d27-c024-c6de35b17649"
      },
      "outputs": [
        {
          "output_type": "error",
          "ename": "URLError",
          "evalue": "<urlopen error [SSL: CERTIFICATE_VERIFY_FAILED] certificate verify failed: unable to get local issuer certificate (_ssl.c:1020)>",
          "traceback": [
            "\u001b[0;31m---------------------------------------------------------------------------\u001b[0m",
            "\u001b[0;31mSSLCertVerificationError\u001b[0m                  Traceback (most recent call last)",
            "File \u001b[0;32m/Library/Frameworks/Python.framework/Versions/3.13/lib/python3.13/urllib/request.py:1319\u001b[0m, in \u001b[0;36mAbstractHTTPHandler.do_open\u001b[0;34m(self, http_class, req, **http_conn_args)\u001b[0m\n\u001b[1;32m   1318\u001b[0m \u001b[38;5;28;01mtry\u001b[39;00m:\n\u001b[0;32m-> 1319\u001b[0m     \u001b[43mh\u001b[49m\u001b[38;5;241;43m.\u001b[39;49m\u001b[43mrequest\u001b[49m\u001b[43m(\u001b[49m\u001b[43mreq\u001b[49m\u001b[38;5;241;43m.\u001b[39;49m\u001b[43mget_method\u001b[49m\u001b[43m(\u001b[49m\u001b[43m)\u001b[49m\u001b[43m,\u001b[49m\u001b[43m \u001b[49m\u001b[43mreq\u001b[49m\u001b[38;5;241;43m.\u001b[39;49m\u001b[43mselector\u001b[49m\u001b[43m,\u001b[49m\u001b[43m \u001b[49m\u001b[43mreq\u001b[49m\u001b[38;5;241;43m.\u001b[39;49m\u001b[43mdata\u001b[49m\u001b[43m,\u001b[49m\u001b[43m \u001b[49m\u001b[43mheaders\u001b[49m\u001b[43m,\u001b[49m\n\u001b[1;32m   1320\u001b[0m \u001b[43m              \u001b[49m\u001b[43mencode_chunked\u001b[49m\u001b[38;5;241;43m=\u001b[39;49m\u001b[43mreq\u001b[49m\u001b[38;5;241;43m.\u001b[39;49m\u001b[43mhas_header\u001b[49m\u001b[43m(\u001b[49m\u001b[38;5;124;43m'\u001b[39;49m\u001b[38;5;124;43mTransfer-encoding\u001b[39;49m\u001b[38;5;124;43m'\u001b[39;49m\u001b[43m)\u001b[49m\u001b[43m)\u001b[49m\n\u001b[1;32m   1321\u001b[0m \u001b[38;5;28;01mexcept\u001b[39;00m \u001b[38;5;167;01mOSError\u001b[39;00m \u001b[38;5;28;01mas\u001b[39;00m err: \u001b[38;5;66;03m# timeout error\u001b[39;00m\n",
            "File \u001b[0;32m/Library/Frameworks/Python.framework/Versions/3.13/lib/python3.13/http/client.py:1336\u001b[0m, in \u001b[0;36mHTTPConnection.request\u001b[0;34m(self, method, url, body, headers, encode_chunked)\u001b[0m\n\u001b[1;32m   1335\u001b[0m \u001b[38;5;250m\u001b[39m\u001b[38;5;124;03m\"\"\"Send a complete request to the server.\"\"\"\u001b[39;00m\n\u001b[0;32m-> 1336\u001b[0m \u001b[38;5;28;43mself\u001b[39;49m\u001b[38;5;241;43m.\u001b[39;49m\u001b[43m_send_request\u001b[49m\u001b[43m(\u001b[49m\u001b[43mmethod\u001b[49m\u001b[43m,\u001b[49m\u001b[43m \u001b[49m\u001b[43murl\u001b[49m\u001b[43m,\u001b[49m\u001b[43m \u001b[49m\u001b[43mbody\u001b[49m\u001b[43m,\u001b[49m\u001b[43m \u001b[49m\u001b[43mheaders\u001b[49m\u001b[43m,\u001b[49m\u001b[43m \u001b[49m\u001b[43mencode_chunked\u001b[49m\u001b[43m)\u001b[49m\n",
            "File \u001b[0;32m/Library/Frameworks/Python.framework/Versions/3.13/lib/python3.13/http/client.py:1382\u001b[0m, in \u001b[0;36mHTTPConnection._send_request\u001b[0;34m(self, method, url, body, headers, encode_chunked)\u001b[0m\n\u001b[1;32m   1381\u001b[0m     body \u001b[38;5;241m=\u001b[39m _encode(body, \u001b[38;5;124m'\u001b[39m\u001b[38;5;124mbody\u001b[39m\u001b[38;5;124m'\u001b[39m)\n\u001b[0;32m-> 1382\u001b[0m \u001b[38;5;28;43mself\u001b[39;49m\u001b[38;5;241;43m.\u001b[39;49m\u001b[43mendheaders\u001b[49m\u001b[43m(\u001b[49m\u001b[43mbody\u001b[49m\u001b[43m,\u001b[49m\u001b[43m \u001b[49m\u001b[43mencode_chunked\u001b[49m\u001b[38;5;241;43m=\u001b[39;49m\u001b[43mencode_chunked\u001b[49m\u001b[43m)\u001b[49m\n",
            "File \u001b[0;32m/Library/Frameworks/Python.framework/Versions/3.13/lib/python3.13/http/client.py:1331\u001b[0m, in \u001b[0;36mHTTPConnection.endheaders\u001b[0;34m(self, message_body, encode_chunked)\u001b[0m\n\u001b[1;32m   1330\u001b[0m     \u001b[38;5;28;01mraise\u001b[39;00m CannotSendHeader()\n\u001b[0;32m-> 1331\u001b[0m \u001b[38;5;28;43mself\u001b[39;49m\u001b[38;5;241;43m.\u001b[39;49m\u001b[43m_send_output\u001b[49m\u001b[43m(\u001b[49m\u001b[43mmessage_body\u001b[49m\u001b[43m,\u001b[49m\u001b[43m \u001b[49m\u001b[43mencode_chunked\u001b[49m\u001b[38;5;241;43m=\u001b[39;49m\u001b[43mencode_chunked\u001b[49m\u001b[43m)\u001b[49m\n",
            "File \u001b[0;32m/Library/Frameworks/Python.framework/Versions/3.13/lib/python3.13/http/client.py:1091\u001b[0m, in \u001b[0;36mHTTPConnection._send_output\u001b[0;34m(self, message_body, encode_chunked)\u001b[0m\n\u001b[1;32m   1090\u001b[0m \u001b[38;5;28;01mdel\u001b[39;00m \u001b[38;5;28mself\u001b[39m\u001b[38;5;241m.\u001b[39m_buffer[:]\n\u001b[0;32m-> 1091\u001b[0m \u001b[38;5;28;43mself\u001b[39;49m\u001b[38;5;241;43m.\u001b[39;49m\u001b[43msend\u001b[49m\u001b[43m(\u001b[49m\u001b[43mmsg\u001b[49m\u001b[43m)\u001b[49m\n\u001b[1;32m   1093\u001b[0m \u001b[38;5;28;01mif\u001b[39;00m message_body \u001b[38;5;129;01mis\u001b[39;00m \u001b[38;5;129;01mnot\u001b[39;00m \u001b[38;5;28;01mNone\u001b[39;00m:\n\u001b[1;32m   1094\u001b[0m \n\u001b[1;32m   1095\u001b[0m     \u001b[38;5;66;03m# create a consistent interface to message_body\u001b[39;00m\n",
            "File \u001b[0;32m/Library/Frameworks/Python.framework/Versions/3.13/lib/python3.13/http/client.py:1035\u001b[0m, in \u001b[0;36mHTTPConnection.send\u001b[0;34m(self, data)\u001b[0m\n\u001b[1;32m   1034\u001b[0m \u001b[38;5;28;01mif\u001b[39;00m \u001b[38;5;28mself\u001b[39m\u001b[38;5;241m.\u001b[39mauto_open:\n\u001b[0;32m-> 1035\u001b[0m     \u001b[38;5;28;43mself\u001b[39;49m\u001b[38;5;241;43m.\u001b[39;49m\u001b[43mconnect\u001b[49m\u001b[43m(\u001b[49m\u001b[43m)\u001b[49m\n\u001b[1;32m   1036\u001b[0m \u001b[38;5;28;01melse\u001b[39;00m:\n",
            "File \u001b[0;32m/Library/Frameworks/Python.framework/Versions/3.13/lib/python3.13/http/client.py:1477\u001b[0m, in \u001b[0;36mHTTPSConnection.connect\u001b[0;34m(self)\u001b[0m\n\u001b[1;32m   1475\u001b[0m     server_hostname \u001b[38;5;241m=\u001b[39m \u001b[38;5;28mself\u001b[39m\u001b[38;5;241m.\u001b[39mhost\n\u001b[0;32m-> 1477\u001b[0m \u001b[38;5;28mself\u001b[39m\u001b[38;5;241m.\u001b[39msock \u001b[38;5;241m=\u001b[39m \u001b[38;5;28;43mself\u001b[39;49m\u001b[38;5;241;43m.\u001b[39;49m\u001b[43m_context\u001b[49m\u001b[38;5;241;43m.\u001b[39;49m\u001b[43mwrap_socket\u001b[49m\u001b[43m(\u001b[49m\u001b[38;5;28;43mself\u001b[39;49m\u001b[38;5;241;43m.\u001b[39;49m\u001b[43msock\u001b[49m\u001b[43m,\u001b[49m\n\u001b[1;32m   1478\u001b[0m \u001b[43m                                      \u001b[49m\u001b[43mserver_hostname\u001b[49m\u001b[38;5;241;43m=\u001b[39;49m\u001b[43mserver_hostname\u001b[49m\u001b[43m)\u001b[49m\n",
            "File \u001b[0;32m/Library/Frameworks/Python.framework/Versions/3.13/lib/python3.13/ssl.py:455\u001b[0m, in \u001b[0;36mSSLContext.wrap_socket\u001b[0;34m(self, sock, server_side, do_handshake_on_connect, suppress_ragged_eofs, server_hostname, session)\u001b[0m\n\u001b[1;32m    449\u001b[0m \u001b[38;5;28;01mdef\u001b[39;00m \u001b[38;5;21mwrap_socket\u001b[39m(\u001b[38;5;28mself\u001b[39m, sock, server_side\u001b[38;5;241m=\u001b[39m\u001b[38;5;28;01mFalse\u001b[39;00m,\n\u001b[1;32m    450\u001b[0m                 do_handshake_on_connect\u001b[38;5;241m=\u001b[39m\u001b[38;5;28;01mTrue\u001b[39;00m,\n\u001b[1;32m    451\u001b[0m                 suppress_ragged_eofs\u001b[38;5;241m=\u001b[39m\u001b[38;5;28;01mTrue\u001b[39;00m,\n\u001b[1;32m    452\u001b[0m                 server_hostname\u001b[38;5;241m=\u001b[39m\u001b[38;5;28;01mNone\u001b[39;00m, session\u001b[38;5;241m=\u001b[39m\u001b[38;5;28;01mNone\u001b[39;00m):\n\u001b[1;32m    453\u001b[0m     \u001b[38;5;66;03m# SSLSocket class handles server_hostname encoding before it calls\u001b[39;00m\n\u001b[1;32m    454\u001b[0m     \u001b[38;5;66;03m# ctx._wrap_socket()\u001b[39;00m\n\u001b[0;32m--> 455\u001b[0m     \u001b[38;5;28;01mreturn\u001b[39;00m \u001b[38;5;28;43mself\u001b[39;49m\u001b[38;5;241;43m.\u001b[39;49m\u001b[43msslsocket_class\u001b[49m\u001b[38;5;241;43m.\u001b[39;49m\u001b[43m_create\u001b[49m\u001b[43m(\u001b[49m\n\u001b[1;32m    456\u001b[0m \u001b[43m        \u001b[49m\u001b[43msock\u001b[49m\u001b[38;5;241;43m=\u001b[39;49m\u001b[43msock\u001b[49m\u001b[43m,\u001b[49m\n\u001b[1;32m    457\u001b[0m \u001b[43m        \u001b[49m\u001b[43mserver_side\u001b[49m\u001b[38;5;241;43m=\u001b[39;49m\u001b[43mserver_side\u001b[49m\u001b[43m,\u001b[49m\n\u001b[1;32m    458\u001b[0m \u001b[43m        \u001b[49m\u001b[43mdo_handshake_on_connect\u001b[49m\u001b[38;5;241;43m=\u001b[39;49m\u001b[43mdo_handshake_on_connect\u001b[49m\u001b[43m,\u001b[49m\n\u001b[1;32m    459\u001b[0m \u001b[43m        \u001b[49m\u001b[43msuppress_ragged_eofs\u001b[49m\u001b[38;5;241;43m=\u001b[39;49m\u001b[43msuppress_ragged_eofs\u001b[49m\u001b[43m,\u001b[49m\n\u001b[1;32m    460\u001b[0m \u001b[43m        \u001b[49m\u001b[43mserver_hostname\u001b[49m\u001b[38;5;241;43m=\u001b[39;49m\u001b[43mserver_hostname\u001b[49m\u001b[43m,\u001b[49m\n\u001b[1;32m    461\u001b[0m \u001b[43m        \u001b[49m\u001b[43mcontext\u001b[49m\u001b[38;5;241;43m=\u001b[39;49m\u001b[38;5;28;43mself\u001b[39;49m\u001b[43m,\u001b[49m\n\u001b[1;32m    462\u001b[0m \u001b[43m        \u001b[49m\u001b[43msession\u001b[49m\u001b[38;5;241;43m=\u001b[39;49m\u001b[43msession\u001b[49m\n\u001b[1;32m    463\u001b[0m \u001b[43m    \u001b[49m\u001b[43m)\u001b[49m\n",
            "File \u001b[0;32m/Library/Frameworks/Python.framework/Versions/3.13/lib/python3.13/ssl.py:1076\u001b[0m, in \u001b[0;36mSSLSocket._create\u001b[0;34m(cls, sock, server_side, do_handshake_on_connect, suppress_ragged_eofs, server_hostname, context, session)\u001b[0m\n\u001b[1;32m   1075\u001b[0m                 \u001b[38;5;28;01mraise\u001b[39;00m \u001b[38;5;167;01mValueError\u001b[39;00m(\u001b[38;5;124m\"\u001b[39m\u001b[38;5;124mdo_handshake_on_connect should not be specified for non-blocking sockets\u001b[39m\u001b[38;5;124m\"\u001b[39m)\n\u001b[0;32m-> 1076\u001b[0m             \u001b[38;5;28;43mself\u001b[39;49m\u001b[38;5;241;43m.\u001b[39;49m\u001b[43mdo_handshake\u001b[49m\u001b[43m(\u001b[49m\u001b[43m)\u001b[49m\n\u001b[1;32m   1077\u001b[0m \u001b[38;5;28;01mexcept\u001b[39;00m:\n",
            "File \u001b[0;32m/Library/Frameworks/Python.framework/Versions/3.13/lib/python3.13/ssl.py:1372\u001b[0m, in \u001b[0;36mSSLSocket.do_handshake\u001b[0;34m(self, block)\u001b[0m\n\u001b[1;32m   1371\u001b[0m         \u001b[38;5;28mself\u001b[39m\u001b[38;5;241m.\u001b[39msettimeout(\u001b[38;5;28;01mNone\u001b[39;00m)\n\u001b[0;32m-> 1372\u001b[0m     \u001b[38;5;28;43mself\u001b[39;49m\u001b[38;5;241;43m.\u001b[39;49m\u001b[43m_sslobj\u001b[49m\u001b[38;5;241;43m.\u001b[39;49m\u001b[43mdo_handshake\u001b[49m\u001b[43m(\u001b[49m\u001b[43m)\u001b[49m\n\u001b[1;32m   1373\u001b[0m \u001b[38;5;28;01mfinally\u001b[39;00m:\n",
            "\u001b[0;31mSSLCertVerificationError\u001b[0m: [SSL: CERTIFICATE_VERIFY_FAILED] certificate verify failed: unable to get local issuer certificate (_ssl.c:1020)",
            "\nDuring handling of the above exception, another exception occurred:\n",
            "\u001b[0;31mURLError\u001b[0m                                  Traceback (most recent call last)",
            "Cell \u001b[0;32mIn[35], line 4\u001b[0m\n\u001b[1;32m      1\u001b[0m \u001b[38;5;28;01mfrom\u001b[39;00m \u001b[38;5;21;01mIPython\u001b[39;00m\u001b[38;5;21;01m.\u001b[39;00m\u001b[38;5;21;01mdisplay\u001b[39;00m \u001b[38;5;28;01mimport\u001b[39;00m Image\n\u001b[1;32m      3\u001b[0m data_path \u001b[38;5;241m=\u001b[39m \u001b[38;5;124m\"\u001b[39m\u001b[38;5;124mhttps://s3.eu-west-2.amazonaws.com/qm2/wk3/inner.png\u001b[39m\u001b[38;5;124m\"\u001b[39m\n\u001b[0;32m----> 4\u001b[0m \u001b[43mImage\u001b[49m\u001b[43m(\u001b[49m\u001b[43mdata_path\u001b[49m\u001b[43m)\u001b[49m\n",
            "File \u001b[0;32m/Library/Frameworks/Python.framework/Versions/3.13/lib/python3.13/site-packages/IPython/core/display.py:974\u001b[0m, in \u001b[0;36mImage.__init__\u001b[0;34m(self, data, url, filename, format, embed, width, height, retina, unconfined, metadata, alt)\u001b[0m\n\u001b[1;32m    972\u001b[0m \u001b[38;5;28mself\u001b[39m\u001b[38;5;241m.\u001b[39munconfined \u001b[38;5;241m=\u001b[39m unconfined\n\u001b[1;32m    973\u001b[0m \u001b[38;5;28mself\u001b[39m\u001b[38;5;241m.\u001b[39malt \u001b[38;5;241m=\u001b[39m alt\n\u001b[0;32m--> 974\u001b[0m \u001b[38;5;28;43msuper\u001b[39;49m\u001b[43m(\u001b[49m\u001b[43mImage\u001b[49m\u001b[43m,\u001b[49m\u001b[43m \u001b[49m\u001b[38;5;28;43mself\u001b[39;49m\u001b[43m)\u001b[49m\u001b[38;5;241;43m.\u001b[39;49m\u001b[38;5;21;43m__init__\u001b[39;49m\u001b[43m(\u001b[49m\u001b[43mdata\u001b[49m\u001b[38;5;241;43m=\u001b[39;49m\u001b[43mdata\u001b[49m\u001b[43m,\u001b[49m\u001b[43m \u001b[49m\u001b[43murl\u001b[49m\u001b[38;5;241;43m=\u001b[39;49m\u001b[43murl\u001b[49m\u001b[43m,\u001b[49m\u001b[43m \u001b[49m\u001b[43mfilename\u001b[49m\u001b[38;5;241;43m=\u001b[39;49m\u001b[43mfilename\u001b[49m\u001b[43m,\u001b[49m\n\u001b[1;32m    975\u001b[0m \u001b[43m        \u001b[49m\u001b[43mmetadata\u001b[49m\u001b[38;5;241;43m=\u001b[39;49m\u001b[43mmetadata\u001b[49m\u001b[43m)\u001b[49m\n\u001b[1;32m    977\u001b[0m \u001b[38;5;28;01mif\u001b[39;00m \u001b[38;5;28mself\u001b[39m\u001b[38;5;241m.\u001b[39mwidth \u001b[38;5;129;01mis\u001b[39;00m \u001b[38;5;28;01mNone\u001b[39;00m \u001b[38;5;129;01mand\u001b[39;00m \u001b[38;5;28mself\u001b[39m\u001b[38;5;241m.\u001b[39mmetadata\u001b[38;5;241m.\u001b[39mget(\u001b[38;5;124m'\u001b[39m\u001b[38;5;124mwidth\u001b[39m\u001b[38;5;124m'\u001b[39m, {}):\n\u001b[1;32m    978\u001b[0m     \u001b[38;5;28mself\u001b[39m\u001b[38;5;241m.\u001b[39mwidth \u001b[38;5;241m=\u001b[39m metadata[\u001b[38;5;124m'\u001b[39m\u001b[38;5;124mwidth\u001b[39m\u001b[38;5;124m'\u001b[39m]\n",
            "File \u001b[0;32m/Library/Frameworks/Python.framework/Versions/3.13/lib/python3.13/site-packages/IPython/core/display.py:331\u001b[0m, in \u001b[0;36mDisplayObject.__init__\u001b[0;34m(self, data, url, filename, metadata)\u001b[0m\n\u001b[1;32m    328\u001b[0m \u001b[38;5;28;01melif\u001b[39;00m \u001b[38;5;28mself\u001b[39m\u001b[38;5;241m.\u001b[39mmetadata \u001b[38;5;129;01mis\u001b[39;00m \u001b[38;5;28;01mNone\u001b[39;00m:\n\u001b[1;32m    329\u001b[0m     \u001b[38;5;28mself\u001b[39m\u001b[38;5;241m.\u001b[39mmetadata \u001b[38;5;241m=\u001b[39m {}\n\u001b[0;32m--> 331\u001b[0m \u001b[38;5;28;43mself\u001b[39;49m\u001b[38;5;241;43m.\u001b[39;49m\u001b[43mreload\u001b[49m\u001b[43m(\u001b[49m\u001b[43m)\u001b[49m\n\u001b[1;32m    332\u001b[0m \u001b[38;5;28mself\u001b[39m\u001b[38;5;241m.\u001b[39m_check_data()\n",
            "File \u001b[0;32m/Library/Frameworks/Python.framework/Versions/3.13/lib/python3.13/site-packages/IPython/core/display.py:1009\u001b[0m, in \u001b[0;36mImage.reload\u001b[0;34m(self)\u001b[0m\n\u001b[1;32m   1007\u001b[0m \u001b[38;5;250m\u001b[39m\u001b[38;5;124;03m\"\"\"Reload the raw data from file or URL.\"\"\"\u001b[39;00m\n\u001b[1;32m   1008\u001b[0m \u001b[38;5;28;01mif\u001b[39;00m \u001b[38;5;28mself\u001b[39m\u001b[38;5;241m.\u001b[39membed:\n\u001b[0;32m-> 1009\u001b[0m     \u001b[38;5;28;43msuper\u001b[39;49m\u001b[43m(\u001b[49m\u001b[43mImage\u001b[49m\u001b[43m,\u001b[49m\u001b[38;5;28;43mself\u001b[39;49m\u001b[43m)\u001b[49m\u001b[38;5;241;43m.\u001b[39;49m\u001b[43mreload\u001b[49m\u001b[43m(\u001b[49m\u001b[43m)\u001b[49m\n\u001b[1;32m   1010\u001b[0m     \u001b[38;5;28;01mif\u001b[39;00m \u001b[38;5;28mself\u001b[39m\u001b[38;5;241m.\u001b[39mretina:\n\u001b[1;32m   1011\u001b[0m         \u001b[38;5;28mself\u001b[39m\u001b[38;5;241m.\u001b[39m_retina_shape()\n",
            "File \u001b[0;32m/Library/Frameworks/Python.framework/Versions/3.13/lib/python3.13/site-packages/IPython/core/display.py:362\u001b[0m, in \u001b[0;36mDisplayObject.reload\u001b[0;34m(self)\u001b[0m\n\u001b[1;32m    359\u001b[0m \u001b[38;5;28;01melif\u001b[39;00m \u001b[38;5;28mself\u001b[39m\u001b[38;5;241m.\u001b[39murl \u001b[38;5;129;01mis\u001b[39;00m \u001b[38;5;129;01mnot\u001b[39;00m \u001b[38;5;28;01mNone\u001b[39;00m:\n\u001b[1;32m    360\u001b[0m     \u001b[38;5;66;03m# Deferred import\u001b[39;00m\n\u001b[1;32m    361\u001b[0m     \u001b[38;5;28;01mfrom\u001b[39;00m \u001b[38;5;21;01murllib\u001b[39;00m\u001b[38;5;21;01m.\u001b[39;00m\u001b[38;5;21;01mrequest\u001b[39;00m \u001b[38;5;28;01mimport\u001b[39;00m urlopen\n\u001b[0;32m--> 362\u001b[0m     response \u001b[38;5;241m=\u001b[39m \u001b[43murlopen\u001b[49m\u001b[43m(\u001b[49m\u001b[38;5;28;43mself\u001b[39;49m\u001b[38;5;241;43m.\u001b[39;49m\u001b[43murl\u001b[49m\u001b[43m)\u001b[49m\n\u001b[1;32m    363\u001b[0m     data \u001b[38;5;241m=\u001b[39m response\u001b[38;5;241m.\u001b[39mread()\n\u001b[1;32m    364\u001b[0m     \u001b[38;5;66;03m# extract encoding from header, if there is one:\u001b[39;00m\n",
            "File \u001b[0;32m/Library/Frameworks/Python.framework/Versions/3.13/lib/python3.13/urllib/request.py:189\u001b[0m, in \u001b[0;36murlopen\u001b[0;34m(url, data, timeout, context)\u001b[0m\n\u001b[1;32m    187\u001b[0m \u001b[38;5;28;01melse\u001b[39;00m:\n\u001b[1;32m    188\u001b[0m     opener \u001b[38;5;241m=\u001b[39m _opener\n\u001b[0;32m--> 189\u001b[0m \u001b[38;5;28;01mreturn\u001b[39;00m \u001b[43mopener\u001b[49m\u001b[38;5;241;43m.\u001b[39;49m\u001b[43mopen\u001b[49m\u001b[43m(\u001b[49m\u001b[43murl\u001b[49m\u001b[43m,\u001b[49m\u001b[43m \u001b[49m\u001b[43mdata\u001b[49m\u001b[43m,\u001b[49m\u001b[43m \u001b[49m\u001b[43mtimeout\u001b[49m\u001b[43m)\u001b[49m\n",
            "File \u001b[0;32m/Library/Frameworks/Python.framework/Versions/3.13/lib/python3.13/urllib/request.py:489\u001b[0m, in \u001b[0;36mOpenerDirector.open\u001b[0;34m(self, fullurl, data, timeout)\u001b[0m\n\u001b[1;32m    486\u001b[0m     req \u001b[38;5;241m=\u001b[39m meth(req)\n\u001b[1;32m    488\u001b[0m sys\u001b[38;5;241m.\u001b[39maudit(\u001b[38;5;124m'\u001b[39m\u001b[38;5;124murllib.Request\u001b[39m\u001b[38;5;124m'\u001b[39m, req\u001b[38;5;241m.\u001b[39mfull_url, req\u001b[38;5;241m.\u001b[39mdata, req\u001b[38;5;241m.\u001b[39mheaders, req\u001b[38;5;241m.\u001b[39mget_method())\n\u001b[0;32m--> 489\u001b[0m response \u001b[38;5;241m=\u001b[39m \u001b[38;5;28;43mself\u001b[39;49m\u001b[38;5;241;43m.\u001b[39;49m\u001b[43m_open\u001b[49m\u001b[43m(\u001b[49m\u001b[43mreq\u001b[49m\u001b[43m,\u001b[49m\u001b[43m \u001b[49m\u001b[43mdata\u001b[49m\u001b[43m)\u001b[49m\n\u001b[1;32m    491\u001b[0m \u001b[38;5;66;03m# post-process response\u001b[39;00m\n\u001b[1;32m    492\u001b[0m meth_name \u001b[38;5;241m=\u001b[39m protocol\u001b[38;5;241m+\u001b[39m\u001b[38;5;124m\"\u001b[39m\u001b[38;5;124m_response\u001b[39m\u001b[38;5;124m\"\u001b[39m\n",
            "File \u001b[0;32m/Library/Frameworks/Python.framework/Versions/3.13/lib/python3.13/urllib/request.py:506\u001b[0m, in \u001b[0;36mOpenerDirector._open\u001b[0;34m(self, req, data)\u001b[0m\n\u001b[1;32m    503\u001b[0m     \u001b[38;5;28;01mreturn\u001b[39;00m result\n\u001b[1;32m    505\u001b[0m protocol \u001b[38;5;241m=\u001b[39m req\u001b[38;5;241m.\u001b[39mtype\n\u001b[0;32m--> 506\u001b[0m result \u001b[38;5;241m=\u001b[39m \u001b[38;5;28;43mself\u001b[39;49m\u001b[38;5;241;43m.\u001b[39;49m\u001b[43m_call_chain\u001b[49m\u001b[43m(\u001b[49m\u001b[38;5;28;43mself\u001b[39;49m\u001b[38;5;241;43m.\u001b[39;49m\u001b[43mhandle_open\u001b[49m\u001b[43m,\u001b[49m\u001b[43m \u001b[49m\u001b[43mprotocol\u001b[49m\u001b[43m,\u001b[49m\u001b[43m \u001b[49m\u001b[43mprotocol\u001b[49m\u001b[43m \u001b[49m\u001b[38;5;241;43m+\u001b[39;49m\n\u001b[1;32m    507\u001b[0m \u001b[43m                          \u001b[49m\u001b[38;5;124;43m'\u001b[39;49m\u001b[38;5;124;43m_open\u001b[39;49m\u001b[38;5;124;43m'\u001b[39;49m\u001b[43m,\u001b[49m\u001b[43m \u001b[49m\u001b[43mreq\u001b[49m\u001b[43m)\u001b[49m\n\u001b[1;32m    508\u001b[0m \u001b[38;5;28;01mif\u001b[39;00m result:\n\u001b[1;32m    509\u001b[0m     \u001b[38;5;28;01mreturn\u001b[39;00m result\n",
            "File \u001b[0;32m/Library/Frameworks/Python.framework/Versions/3.13/lib/python3.13/urllib/request.py:466\u001b[0m, in \u001b[0;36mOpenerDirector._call_chain\u001b[0;34m(self, chain, kind, meth_name, *args)\u001b[0m\n\u001b[1;32m    464\u001b[0m \u001b[38;5;28;01mfor\u001b[39;00m handler \u001b[38;5;129;01min\u001b[39;00m handlers:\n\u001b[1;32m    465\u001b[0m     func \u001b[38;5;241m=\u001b[39m \u001b[38;5;28mgetattr\u001b[39m(handler, meth_name)\n\u001b[0;32m--> 466\u001b[0m     result \u001b[38;5;241m=\u001b[39m \u001b[43mfunc\u001b[49m\u001b[43m(\u001b[49m\u001b[38;5;241;43m*\u001b[39;49m\u001b[43margs\u001b[49m\u001b[43m)\u001b[49m\n\u001b[1;32m    467\u001b[0m     \u001b[38;5;28;01mif\u001b[39;00m result \u001b[38;5;129;01mis\u001b[39;00m \u001b[38;5;129;01mnot\u001b[39;00m \u001b[38;5;28;01mNone\u001b[39;00m:\n\u001b[1;32m    468\u001b[0m         \u001b[38;5;28;01mreturn\u001b[39;00m result\n",
            "File \u001b[0;32m/Library/Frameworks/Python.framework/Versions/3.13/lib/python3.13/urllib/request.py:1367\u001b[0m, in \u001b[0;36mHTTPSHandler.https_open\u001b[0;34m(self, req)\u001b[0m\n\u001b[1;32m   1366\u001b[0m \u001b[38;5;28;01mdef\u001b[39;00m \u001b[38;5;21mhttps_open\u001b[39m(\u001b[38;5;28mself\u001b[39m, req):\n\u001b[0;32m-> 1367\u001b[0m     \u001b[38;5;28;01mreturn\u001b[39;00m \u001b[38;5;28;43mself\u001b[39;49m\u001b[38;5;241;43m.\u001b[39;49m\u001b[43mdo_open\u001b[49m\u001b[43m(\u001b[49m\u001b[43mhttp\u001b[49m\u001b[38;5;241;43m.\u001b[39;49m\u001b[43mclient\u001b[49m\u001b[38;5;241;43m.\u001b[39;49m\u001b[43mHTTPSConnection\u001b[49m\u001b[43m,\u001b[49m\u001b[43m \u001b[49m\u001b[43mreq\u001b[49m\u001b[43m,\u001b[49m\n\u001b[1;32m   1368\u001b[0m \u001b[43m                        \u001b[49m\u001b[43mcontext\u001b[49m\u001b[38;5;241;43m=\u001b[39;49m\u001b[38;5;28;43mself\u001b[39;49m\u001b[38;5;241;43m.\u001b[39;49m\u001b[43m_context\u001b[49m\u001b[43m)\u001b[49m\n",
            "File \u001b[0;32m/Library/Frameworks/Python.framework/Versions/3.13/lib/python3.13/urllib/request.py:1322\u001b[0m, in \u001b[0;36mAbstractHTTPHandler.do_open\u001b[0;34m(self, http_class, req, **http_conn_args)\u001b[0m\n\u001b[1;32m   1319\u001b[0m         h\u001b[38;5;241m.\u001b[39mrequest(req\u001b[38;5;241m.\u001b[39mget_method(), req\u001b[38;5;241m.\u001b[39mselector, req\u001b[38;5;241m.\u001b[39mdata, headers,\n\u001b[1;32m   1320\u001b[0m                   encode_chunked\u001b[38;5;241m=\u001b[39mreq\u001b[38;5;241m.\u001b[39mhas_header(\u001b[38;5;124m'\u001b[39m\u001b[38;5;124mTransfer-encoding\u001b[39m\u001b[38;5;124m'\u001b[39m))\n\u001b[1;32m   1321\u001b[0m     \u001b[38;5;28;01mexcept\u001b[39;00m \u001b[38;5;167;01mOSError\u001b[39;00m \u001b[38;5;28;01mas\u001b[39;00m err: \u001b[38;5;66;03m# timeout error\u001b[39;00m\n\u001b[0;32m-> 1322\u001b[0m         \u001b[38;5;28;01mraise\u001b[39;00m URLError(err)\n\u001b[1;32m   1323\u001b[0m     r \u001b[38;5;241m=\u001b[39m h\u001b[38;5;241m.\u001b[39mgetresponse()\n\u001b[1;32m   1324\u001b[0m \u001b[38;5;28;01mexcept\u001b[39;00m:\n",
            "\u001b[0;31mURLError\u001b[0m: <urlopen error [SSL: CERTIFICATE_VERIFY_FAILED] certificate verify failed: unable to get local issuer certificate (_ssl.c:1020)>"
          ]
        }
      ],
      "source": [
        "from IPython.display import Image\n",
        "\n",
        "data_path = \"https://s3.eu-west-2.amazonaws.com/qm2/wk3/inner.png\"\n",
        "Image(data_path)"
      ]
    },
    {
      "cell_type": "markdown",
      "metadata": {
        "id": "zqOCeIaQS6ix"
      },
      "source": [
        "(Image from http://blog.codinghorror.com/a-visual-explanation-of-sql-joins/)"
      ]
    },
    {
      "cell_type": "markdown",
      "metadata": {
        "id": "WAqZJFC0S6ix"
      },
      "source": [
        "The inner join *only* includes data whose index appears in both tables. Let's see what that looks like:"
      ]
    },
    {
      "cell_type": "code",
      "execution_count": 36,
      "metadata": {
        "id": "db9q4sgPS6ix"
      },
      "outputs": [],
      "source": [
        "df_joined = df1.merge(df5, left_index=True, right_index=True)"
      ]
    },
    {
      "cell_type": "code",
      "execution_count": 37,
      "metadata": {
        "colab": {
          "base_uri": "https://localhost:8080/",
          "height": 112
        },
        "id": "8ADhCAjIS6iz",
        "outputId": "46578d37-ed5e-4f55-b02a-6c669cc93a05"
      },
      "outputs": [
        {
          "output_type": "execute_result",
          "data": {
            "text/plain": [
              "            area  population  mean temperature  elevation  annual rainfall  \\\n",
              "London  6.008505    5.050713          5.648044   5.403353         4.282473   \n",
              "Paris   4.594648    5.035888          6.571545   4.665140         4.353959   \n",
              "\n",
              "        Mean House Price  median income  walkability score  \n",
              "London          4.820946       6.310598           3.622868  \n",
              "Paris           4.611911       5.076701           4.705411  "
            ],
            "text/html": [
              "<div>\n",
              "<style scoped>\n",
              "    .dataframe tbody tr th:only-of-type {\n",
              "        vertical-align: middle;\n",
              "    }\n",
              "\n",
              "    .dataframe tbody tr th {\n",
              "        vertical-align: top;\n",
              "    }\n",
              "\n",
              "    .dataframe thead th {\n",
              "        text-align: right;\n",
              "    }\n",
              "</style>\n",
              "<table border=\"1\" class=\"dataframe\">\n",
              "  <thead>\n",
              "    <tr style=\"text-align: right;\">\n",
              "      <th></th>\n",
              "      <th>area</th>\n",
              "      <th>population</th>\n",
              "      <th>mean temperature</th>\n",
              "      <th>elevation</th>\n",
              "      <th>annual rainfall</th>\n",
              "      <th>Mean House Price</th>\n",
              "      <th>median income</th>\n",
              "      <th>walkability score</th>\n",
              "    </tr>\n",
              "  </thead>\n",
              "  <tbody>\n",
              "    <tr>\n",
              "      <th>London</th>\n",
              "      <td>6.008505</td>\n",
              "      <td>5.050713</td>\n",
              "      <td>5.648044</td>\n",
              "      <td>5.403353</td>\n",
              "      <td>4.282473</td>\n",
              "      <td>4.820946</td>\n",
              "      <td>6.310598</td>\n",
              "      <td>3.622868</td>\n",
              "    </tr>\n",
              "    <tr>\n",
              "      <th>Paris</th>\n",
              "      <td>4.594648</td>\n",
              "      <td>5.035888</td>\n",
              "      <td>6.571545</td>\n",
              "      <td>4.665140</td>\n",
              "      <td>4.353959</td>\n",
              "      <td>4.611911</td>\n",
              "      <td>5.076701</td>\n",
              "      <td>4.705411</td>\n",
              "    </tr>\n",
              "  </tbody>\n",
              "</table>\n",
              "</div>"
            ]
          },
          "metadata": {},
          "execution_count": 37
        }
      ],
      "source": [
        "df_joined"
      ]
    },
    {
      "cell_type": "markdown",
      "metadata": {
        "id": "G6sp9kBzS6i0"
      },
      "source": [
        "Here, we have a couple of arguments specifying the manner of the join - we have specified that we are joining on the index of the left and right dataset with the optional \"left_index=True\" and \"right_index=True\". Less obviously, the **left** dataset is df1 (because we're using *df1.merge()* and the **right** dataset is df5 (because it appears as an argument in merge(). There's no special reason it shouldn't be the other way around, but for this function, it is this way around and we need to remember that when we use it."
      ]
    },
    {
      "cell_type": "markdown",
      "metadata": {
        "id": "-_Cw_x_-S6i1"
      },
      "source": [
        "## Inner Space\n",
        "\n",
        "Although we haven't specified it, the merge() function has defaulted to an inner join (like the diagram above). We can specify how the join is calculated by changing the text in the optional argument \"how\":"
      ]
    },
    {
      "cell_type": "code",
      "execution_count": 38,
      "metadata": {
        "id": "DgUf5p2aS6i2"
      },
      "outputs": [],
      "source": [
        "df_joined = df1.merge(df5, left_index=True, right_index=True, how='inner')"
      ]
    },
    {
      "cell_type": "code",
      "execution_count": 39,
      "metadata": {
        "colab": {
          "base_uri": "https://localhost:8080/",
          "height": 112
        },
        "id": "hSGBUxd-S6i4",
        "outputId": "563a0801-d279-446a-e7a3-71a96b9ff8cd"
      },
      "outputs": [
        {
          "output_type": "execute_result",
          "data": {
            "text/plain": [
              "            area  population  mean temperature  elevation  annual rainfall  \\\n",
              "London  6.008505    5.050713          5.648044   5.403353         4.282473   \n",
              "Paris   4.594648    5.035888          6.571545   4.665140         4.353959   \n",
              "\n",
              "        Mean House Price  median income  walkability score  \n",
              "London          4.820946       6.310598           3.622868  \n",
              "Paris           4.611911       5.076701           4.705411  "
            ],
            "text/html": [
              "<div>\n",
              "<style scoped>\n",
              "    .dataframe tbody tr th:only-of-type {\n",
              "        vertical-align: middle;\n",
              "    }\n",
              "\n",
              "    .dataframe tbody tr th {\n",
              "        vertical-align: top;\n",
              "    }\n",
              "\n",
              "    .dataframe thead th {\n",
              "        text-align: right;\n",
              "    }\n",
              "</style>\n",
              "<table border=\"1\" class=\"dataframe\">\n",
              "  <thead>\n",
              "    <tr style=\"text-align: right;\">\n",
              "      <th></th>\n",
              "      <th>area</th>\n",
              "      <th>population</th>\n",
              "      <th>mean temperature</th>\n",
              "      <th>elevation</th>\n",
              "      <th>annual rainfall</th>\n",
              "      <th>Mean House Price</th>\n",
              "      <th>median income</th>\n",
              "      <th>walkability score</th>\n",
              "    </tr>\n",
              "  </thead>\n",
              "  <tbody>\n",
              "    <tr>\n",
              "      <th>London</th>\n",
              "      <td>6.008505</td>\n",
              "      <td>5.050713</td>\n",
              "      <td>5.648044</td>\n",
              "      <td>5.403353</td>\n",
              "      <td>4.282473</td>\n",
              "      <td>4.820946</td>\n",
              "      <td>6.310598</td>\n",
              "      <td>3.622868</td>\n",
              "    </tr>\n",
              "    <tr>\n",
              "      <th>Paris</th>\n",
              "      <td>4.594648</td>\n",
              "      <td>5.035888</td>\n",
              "      <td>6.571545</td>\n",
              "      <td>4.665140</td>\n",
              "      <td>4.353959</td>\n",
              "      <td>4.611911</td>\n",
              "      <td>5.076701</td>\n",
              "      <td>4.705411</td>\n",
              "    </tr>\n",
              "  </tbody>\n",
              "</table>\n",
              "</div>"
            ]
          },
          "metadata": {},
          "execution_count": 39
        }
      ],
      "source": [
        "df_joined"
      ]
    },
    {
      "cell_type": "markdown",
      "metadata": {
        "id": "HXo07YMZS6i6"
      },
      "source": [
        "## The Future of The Left\n",
        "The *left* join includes **all** rows where the index appears on the **left** hand side of the join, and **any** data which **matches** it on the **right** hand side. If the index appears on the left but not the right, it will include the data from the left table, and have blanks for the columns on the right."
      ]
    },
    {
      "cell_type": "code",
      "execution_count": null,
      "metadata": {
        "colab": {
          "base_uri": "https://localhost:8080/",
          "height": 346
        },
        "id": "_Fzj1fzLS6i7",
        "outputId": "ff1637ef-c554-4f07-fd47-37d0862f501c"
      },
      "outputs": [
        {
          "data": {
            "image/png": "[encoded data removed]",
            "text/plain": [
              "<IPython.core.display.Image object>"
            ]
          },
          "execution_count": 37,
          "metadata": {},
          "output_type": "execute_result"
        }
      ],
      "source": [
        "data_path = \"https://s3.eu-west-2.amazonaws.com/qm2/wk3/left.png\"\n",
        "Image(data_path)"
      ]
    },
    {
      "cell_type": "markdown",
      "metadata": {
        "id": "uBYPSwlxS6i9"
      },
      "source": [
        "What does *this* look like? We will use the *how='left'* optional argument to create a left join:"
      ]
    },
    {
      "cell_type": "code",
      "execution_count": 40,
      "metadata": {
        "id": "F3hxwEZxS6i-"
      },
      "outputs": [],
      "source": [
        "df_joined = df1.merge(df5, left_index=True, right_index=True, how='left')"
      ]
    },
    {
      "cell_type": "code",
      "execution_count": 41,
      "metadata": {
        "colab": {
          "base_uri": "https://localhost:8080/",
          "height": 206
        },
        "id": "7jVbmtsYS6jA",
        "outputId": "31e12793-b467-4780-b777-968be9f540cf"
      },
      "outputs": [
        {
          "output_type": "execute_result",
          "data": {
            "text/plain": [
              "                    area  population  mean temperature  elevation  \\\n",
              "London          6.008505    5.050713          5.648044   5.403353   \n",
              "Paris           4.594648    5.035888          6.571545   4.665140   \n",
              "Beijing         4.250896    5.543684          4.434948   6.400570   \n",
              "Medellin        6.694565    4.595692          3.367300   5.656350   \n",
              "Port Elizabeth  5.522294    4.452590          3.365878   5.551249   \n",
              "\n",
              "                annual rainfall  Mean House Price  median income  \\\n",
              "London                 4.282473          4.820946       6.310598   \n",
              "Paris                  4.353959          4.611911       5.076701   \n",
              "Beijing                4.989308               NaN            NaN   \n",
              "Medellin               3.901096               NaN            NaN   \n",
              "Port Elizabeth         4.898966               NaN            NaN   \n",
              "\n",
              "                walkability score  \n",
              "London                   3.622868  \n",
              "Paris                    4.705411  \n",
              "Beijing                       NaN  \n",
              "Medellin                      NaN  \n",
              "Port Elizabeth                NaN  "
            ],
            "text/html": [
              "<div>\n",
              "<style scoped>\n",
              "    .dataframe tbody tr th:only-of-type {\n",
              "        vertical-align: middle;\n",
              "    }\n",
              "\n",
              "    .dataframe tbody tr th {\n",
              "        vertical-align: top;\n",
              "    }\n",
              "\n",
              "    .dataframe thead th {\n",
              "        text-align: right;\n",
              "    }\n",
              "</style>\n",
              "<table border=\"1\" class=\"dataframe\">\n",
              "  <thead>\n",
              "    <tr style=\"text-align: right;\">\n",
              "      <th></th>\n",
              "      <th>area</th>\n",
              "      <th>population</th>\n",
              "      <th>mean temperature</th>\n",
              "      <th>elevation</th>\n",
              "      <th>annual rainfall</th>\n",
              "      <th>Mean House Price</th>\n",
              "      <th>median income</th>\n",
              "      <th>walkability score</th>\n",
              "    </tr>\n",
              "  </thead>\n",
              "  <tbody>\n",
              "    <tr>\n",
              "      <th>London</th>\n",
              "      <td>6.008505</td>\n",
              "      <td>5.050713</td>\n",
              "      <td>5.648044</td>\n",
              "      <td>5.403353</td>\n",
              "      <td>4.282473</td>\n",
              "      <td>4.820946</td>\n",
              "      <td>6.310598</td>\n",
              "      <td>3.622868</td>\n",
              "    </tr>\n",
              "    <tr>\n",
              "      <th>Paris</th>\n",
              "      <td>4.594648</td>\n",
              "      <td>5.035888</td>\n",
              "      <td>6.571545</td>\n",
              "      <td>4.665140</td>\n",
              "      <td>4.353959</td>\n",
              "      <td>4.611911</td>\n",
              "      <td>5.076701</td>\n",
              "      <td>4.705411</td>\n",
              "    </tr>\n",
              "    <tr>\n",
              "      <th>Beijing</th>\n",
              "      <td>4.250896</td>\n",
              "      <td>5.543684</td>\n",
              "      <td>4.434948</td>\n",
              "      <td>6.400570</td>\n",
              "      <td>4.989308</td>\n",
              "      <td>NaN</td>\n",
              "      <td>NaN</td>\n",
              "      <td>NaN</td>\n",
              "    </tr>\n",
              "    <tr>\n",
              "      <th>Medellin</th>\n",
              "      <td>6.694565</td>\n",
              "      <td>4.595692</td>\n",
              "      <td>3.367300</td>\n",
              "      <td>5.656350</td>\n",
              "      <td>3.901096</td>\n",
              "      <td>NaN</td>\n",
              "      <td>NaN</td>\n",
              "      <td>NaN</td>\n",
              "    </tr>\n",
              "    <tr>\n",
              "      <th>Port Elizabeth</th>\n",
              "      <td>5.522294</td>\n",
              "      <td>4.452590</td>\n",
              "      <td>3.365878</td>\n",
              "      <td>5.551249</td>\n",
              "      <td>4.898966</td>\n",
              "      <td>NaN</td>\n",
              "      <td>NaN</td>\n",
              "      <td>NaN</td>\n",
              "    </tr>\n",
              "  </tbody>\n",
              "</table>\n",
              "</div>"
            ]
          },
          "metadata": {},
          "execution_count": 41
        }
      ],
      "source": [
        "df_joined"
      ]
    },
    {
      "cell_type": "markdown",
      "metadata": {
        "id": "EzNh3WeSS6jC"
      },
      "source": [
        "As we see, the missing data appears as **NaN** - Not a Number."
      ]
    },
    {
      "cell_type": "markdown",
      "metadata": {
        "id": "qFwsma6tS6jC"
      },
      "source": [
        "## Exercise:\n",
        "\n",
        "Carry out *right* and *outer* joins on the dataframes df1 and df5 and explain how they're filtering and joining the data."
      ]
    },
    {
      "cell_type": "markdown",
      "metadata": {
        "id": "6Kw7EO9pS6jC"
      },
      "source": [
        "## I Am The One and Only\n",
        "\n",
        "So far, we've carried out joins on data which have a *one-to-one* relationship; data for cities or people. What if our data has a *one-to-many* correspondence?\n",
        "\n",
        "*Example:* We want to look at the quality of life in cities (a real student project from 2014). We have a dataset listing city-level characteristics for a number of cities in Europe, including the country each city is in. We also have a dataset listing the GDP, life expectancy and other indicators for a number of *countries* in Europe. How do we create a dataframe which, for each city, lists all of the characteristics of a city and those of its parent country?"
      ]
    },
    {
      "cell_type": "markdown",
      "metadata": {
        "id": "FBuvIDuUS6jC"
      },
      "source": [
        "We'll be working now with data from the UN, covering information about cities - real data this time. The UN has some great data, we've taken some from here and processed it in various ways:\n",
        "\n",
        "http://data.un.org/Data.aspx?d=POP&f=tableCode%3A240\n",
        "\n",
        "Let's load up data on city population - this set contains data for 2012-2014 inclusive:"
      ]
    },
    {
      "cell_type": "code",
      "execution_count": 42,
      "metadata": {
        "id": "OT9bs-RKS6jD"
      },
      "outputs": [],
      "source": [
        "data_path = \"./data/wk5/UN_Cities_1214_population.csv\"\n",
        "\n",
        "city_pop = pd.read_csv(data_path, encoding='latin1')"
      ]
    },
    {
      "cell_type": "code",
      "execution_count": 43,
      "metadata": {
        "colab": {
          "base_uri": "https://localhost:8080/",
          "height": 206
        },
        "id": "KrxMQsfcS6jF",
        "outputId": "9398f867-9b54-487a-f1f4-0712329ce70d"
      },
      "outputs": [
        {
          "output_type": "execute_result",
          "data": {
            "text/plain": [
              "   Year   Area         Sex       City    City type         Record Type  \\\n",
              "0  2013  Total  Both Sexes  MARIEHAMN  City proper  Estimate - de jure   \n",
              "1  2013  Total        Male  MARIEHAMN  City proper  Estimate - de jure   \n",
              "2  2013  Total      Female  MARIEHAMN  City proper  Estimate - de jure   \n",
              "3  2012  Total  Both Sexes  MARIEHAMN  City proper  Estimate - de jure   \n",
              "4  2012  Total        Male  MARIEHAMN  City proper  Estimate - de jure   \n",
              "\n",
              "              Reliability  Source Year    Value Value Footnotes  \n",
              "0  Final figure, complete         2014  11370.0             NaN  \n",
              "1  Final figure, complete         2014   5445.0             NaN  \n",
              "2  Final figure, complete         2014   5925.0             NaN  \n",
              "3  Final figure, complete         2013  11304.5             NaN  \n",
              "4  Final figure, complete         2013   5408.0             NaN  "
            ],
            "text/html": [
              "<div>\n",
              "<style scoped>\n",
              "    .dataframe tbody tr th:only-of-type {\n",
              "        vertical-align: middle;\n",
              "    }\n",
              "\n",
              "    .dataframe tbody tr th {\n",
              "        vertical-align: top;\n",
              "    }\n",
              "\n",
              "    .dataframe thead th {\n",
              "        text-align: right;\n",
              "    }\n",
              "</style>\n",
              "<table border=\"1\" class=\"dataframe\">\n",
              "  <thead>\n",
              "    <tr style=\"text-align: right;\">\n",
              "      <th></th>\n",
              "      <th>Year</th>\n",
              "      <th>Area</th>\n",
              "      <th>Sex</th>\n",
              "      <th>City</th>\n",
              "      <th>City type</th>\n",
              "      <th>Record Type</th>\n",
              "      <th>Reliability</th>\n",
              "      <th>Source Year</th>\n",
              "      <th>Value</th>\n",
              "      <th>Value Footnotes</th>\n",
              "    </tr>\n",
              "  </thead>\n",
              "  <tbody>\n",
              "    <tr>\n",
              "      <th>0</th>\n",
              "      <td>2013</td>\n",
              "      <td>Total</td>\n",
              "      <td>Both Sexes</td>\n",
              "      <td>MARIEHAMN</td>\n",
              "      <td>City proper</td>\n",
              "      <td>Estimate - de jure</td>\n",
              "      <td>Final figure, complete</td>\n",
              "      <td>2014</td>\n",
              "      <td>11370.0</td>\n",
              "      <td>NaN</td>\n",
              "    </tr>\n",
              "    <tr>\n",
              "      <th>1</th>\n",
              "      <td>2013</td>\n",
              "      <td>Total</td>\n",
              "      <td>Male</td>\n",
              "      <td>MARIEHAMN</td>\n",
              "      <td>City proper</td>\n",
              "      <td>Estimate - de jure</td>\n",
              "      <td>Final figure, complete</td>\n",
              "      <td>2014</td>\n",
              "      <td>5445.0</td>\n",
              "      <td>NaN</td>\n",
              "    </tr>\n",
              "    <tr>\n",
              "      <th>2</th>\n",
              "      <td>2013</td>\n",
              "      <td>Total</td>\n",
              "      <td>Female</td>\n",
              "      <td>MARIEHAMN</td>\n",
              "      <td>City proper</td>\n",
              "      <td>Estimate - de jure</td>\n",
              "      <td>Final figure, complete</td>\n",
              "      <td>2014</td>\n",
              "      <td>5925.0</td>\n",
              "      <td>NaN</td>\n",
              "    </tr>\n",
              "    <tr>\n",
              "      <th>3</th>\n",
              "      <td>2012</td>\n",
              "      <td>Total</td>\n",
              "      <td>Both Sexes</td>\n",
              "      <td>MARIEHAMN</td>\n",
              "      <td>City proper</td>\n",
              "      <td>Estimate - de jure</td>\n",
              "      <td>Final figure, complete</td>\n",
              "      <td>2013</td>\n",
              "      <td>11304.5</td>\n",
              "      <td>NaN</td>\n",
              "    </tr>\n",
              "    <tr>\n",
              "      <th>4</th>\n",
              "      <td>2012</td>\n",
              "      <td>Total</td>\n",
              "      <td>Male</td>\n",
              "      <td>MARIEHAMN</td>\n",
              "      <td>City proper</td>\n",
              "      <td>Estimate - de jure</td>\n",
              "      <td>Final figure, complete</td>\n",
              "      <td>2013</td>\n",
              "      <td>5408.0</td>\n",
              "      <td>NaN</td>\n",
              "    </tr>\n",
              "  </tbody>\n",
              "</table>\n",
              "</div>"
            ]
          },
          "metadata": {},
          "execution_count": 43
        }
      ],
      "source": [
        "city_pop.head()"
      ]
    },
    {
      "cell_type": "markdown",
      "metadata": {
        "id": "hOKGwwvbS6jH"
      },
      "source": [
        "## Exercise\n",
        "\n",
        "There is a another datafile we downloaded called *UN_Cities_1214_country.csv*. This is saved to *./data/wk5/UN_Cities_1214_country.csv* - Load this into a dataframe called *city_c* with the city name as the index and view it; then, using *merge* on city name with city_pop to create a new dataframe called *cities*.\n",
        "\n",
        "**Hints:**\n",
        "You'll notice that the index **won't** be the column you want to merge on in the city_pop data. What column *should* you merge on in city_pop? Which column should you merge on in city_c?\n",
        "\n",
        "The syntax for merging on a **column** (which is not the index) is to pass the column name to the optional 'left_on=' or 'right_on=' arguments. And we don't use right_index=True (or left_index=True), depending on which we're using.\n",
        "\n",
        "So for example: **df1.merge(df2, left_on='Name', right_index=True)** would join df1 (on the left) to df2 (on the right), using the column 'Name' on the left (df1) and the index column (whatever that is) on the right (df2)."
      ]
    },
    {
      "cell_type": "code",
      "execution_count": null,
      "metadata": {
        "id": "hbQwHwaSS6jH"
      },
      "outputs": [],
      "source": []
    },
    {
      "cell_type": "markdown",
      "metadata": {
        "id": "CPb3I6u1S6jJ"
      },
      "source": [
        "## A footnote about footnotes\n",
        "\n",
        "Just a quick note - if you look at the primary UN data, you'll see footnotes which will confuse the hell out of Pandas. I've taken the footnotes out, but you can use .tail() to see whether there's any junk in the trunk, and remove it via a text editor."
      ]
    },
    {
      "cell_type": "markdown",
      "metadata": {
        "id": "4mRhI_8mS6jJ"
      },
      "source": [
        "## Clean data\n",
        "We need to simplify this data a bit in the following ways:\n",
        "\n",
        "1. I'm going to focus on one year (2012)\n",
        "2. I'm going to just look at \"Both Sexes\" (not focus on one gender)\n",
        "3. I'm going to get rid of a column of data (the 'Value Footnotes' column) using the *drop()* method."
      ]
    },
    {
      "cell_type": "code",
      "execution_count": 44,
      "metadata": {
        "colab": {
          "base_uri": "https://localhost:8080/",
          "height": 180
        },
        "id": "tI1T3tHxS6jK",
        "outputId": "3b1bc740-72f8-4f67-d22e-c83426e0866b"
      },
      "outputs": [
        {
          "output_type": "error",
          "ename": "NameError",
          "evalue": "name 'cities' is not defined",
          "traceback": [
            "\u001b[0;31m---------------------------------------------------------------------------\u001b[0m",
            "\u001b[0;31mNameError\u001b[0m                                 Traceback (most recent call last)",
            "Cell \u001b[0;32mIn[44], line 1\u001b[0m\n\u001b[0;32m----> 1\u001b[0m cities \u001b[38;5;241m=\u001b[39m \u001b[43mcities\u001b[49m[cities[\u001b[38;5;124m'\u001b[39m\u001b[38;5;124mSex\u001b[39m\u001b[38;5;124m'\u001b[39m]\u001b[38;5;241m==\u001b[39m\u001b[38;5;124m'\u001b[39m\u001b[38;5;124mBoth Sexes\u001b[39m\u001b[38;5;124m'\u001b[39m]\n\u001b[1;32m      2\u001b[0m cities \u001b[38;5;241m=\u001b[39m cities[cities[\u001b[38;5;124m'\u001b[39m\u001b[38;5;124mYear\u001b[39m\u001b[38;5;124m'\u001b[39m]\u001b[38;5;241m==\u001b[39m\u001b[38;5;241m2012\u001b[39m]\n\u001b[1;32m      3\u001b[0m cities\u001b[38;5;241m.\u001b[39mdrop(\u001b[38;5;124m'\u001b[39m\u001b[38;5;124mValue Footnotes\u001b[39m\u001b[38;5;124m'\u001b[39m, axis\u001b[38;5;241m=\u001b[39m\u001b[38;5;241m1\u001b[39m, inplace\u001b[38;5;241m=\u001b[39m\u001b[38;5;28;01mTrue\u001b[39;00m)\n",
            "\u001b[0;31mNameError\u001b[0m: name 'cities' is not defined"
          ]
        }
      ],
      "source": [
        "cities = cities[cities['Sex']=='Both Sexes']\n",
        "cities = cities[cities['Year']==2012]\n",
        "cities.drop('Value Footnotes', axis=1, inplace=True)"
      ]
    },
    {
      "cell_type": "code",
      "execution_count": 45,
      "metadata": {
        "id": "Vq5LWR9WS6jM",
        "outputId": "df26880c-34fd-4576-bb63-3e52c4df3bc3",
        "colab": {
          "base_uri": "https://localhost:8080/",
          "height": 144
        }
      },
      "outputs": [
        {
          "output_type": "error",
          "ename": "NameError",
          "evalue": "name 'cities' is not defined",
          "traceback": [
            "\u001b[0;31m---------------------------------------------------------------------------\u001b[0m",
            "\u001b[0;31mNameError\u001b[0m                                 Traceback (most recent call last)",
            "Cell \u001b[0;32mIn[45], line 1\u001b[0m\n\u001b[0;32m----> 1\u001b[0m \u001b[43mcities\u001b[49m\u001b[38;5;241m.\u001b[39mhead()\n",
            "\u001b[0;31mNameError\u001b[0m: name 'cities' is not defined"
          ]
        }
      ],
      "source": [
        "cities.head()"
      ]
    },
    {
      "cell_type": "markdown",
      "metadata": {
        "id": "l_hXvqvdS6jO"
      },
      "source": [
        "## Extension: In My Place\n",
        "\n",
        "The command I used to get rid of that column is *cities.drop('Value Footnotes', axis=1, inplace=True)*. The syntax is not so complex - the first argument, *'Value Footnotes'*, is just the name of the column; the second argument,  *axis=1*, tells Pandas to look for a column to remove (instead of a row which has *axis=0*); the third and final argument, *inplace=True*, is a command that tells Pandas to edit *inplace*, i.e. to edit the dataframe (*cities*) directly. When *inplace* is False (the default), this command does not directly edit cities, but instead provide an output. So the syntax for that would be\n",
        "\n",
        "new_cities = cities.drop('Value Footnotes', axis=1)\n",
        "\n",
        "and new_cities would be a version of *cities* without the offending column. This is usually the safer option."
      ]
    },
    {
      "cell_type": "markdown",
      "metadata": {
        "id": "3Z5yN-D6S6jO"
      },
      "source": [
        "## Life, Oh Life\n",
        "\n",
        "The UN also has useful data by country, so let's try and work with some of that and join it up with our city data. Let's work with Life Expectancy Data:\n",
        "\n",
        "http://data.un.org/Data.aspx?d=WDI&f=Indicator_Code%3ASP.DYN.LE00.IN"
      ]
    },
    {
      "cell_type": "code",
      "execution_count": 46,
      "metadata": {
        "id": "xJ3lzAz-S6jO"
      },
      "outputs": [],
      "source": [
        "data_path = \"./data/wk5/UN_Life_all.csv\"\n",
        "life = pd.read_csv(data_path, index_col=0)"
      ]
    },
    {
      "cell_type": "code",
      "execution_count": 47,
      "metadata": {
        "id": "IA9Jy3xJS6jQ",
        "outputId": "09ad3c0e-fae2-4049-863c-d6f4371084d0",
        "colab": {
          "base_uri": "https://localhost:8080/",
          "height": 238
        }
      },
      "outputs": [
        {
          "output_type": "execute_result",
          "data": {
            "text/plain": [
              "                 Year      Value  Value Footnotes\n",
              "Country or Area                                  \n",
              "Afghanistan      2012  60.509122              NaN\n",
              "Afghanistan      2011  60.065366              NaN\n",
              "Afghanistan      2010  59.600098              NaN\n",
              "Afghanistan      2009  59.112341              NaN\n",
              "Afghanistan      2008  58.607098              NaN"
            ],
            "text/html": [
              "<div>\n",
              "<style scoped>\n",
              "    .dataframe tbody tr th:only-of-type {\n",
              "        vertical-align: middle;\n",
              "    }\n",
              "\n",
              "    .dataframe tbody tr th {\n",
              "        vertical-align: top;\n",
              "    }\n",
              "\n",
              "    .dataframe thead th {\n",
              "        text-align: right;\n",
              "    }\n",
              "</style>\n",
              "<table border=\"1\" class=\"dataframe\">\n",
              "  <thead>\n",
              "    <tr style=\"text-align: right;\">\n",
              "      <th></th>\n",
              "      <th>Year</th>\n",
              "      <th>Value</th>\n",
              "      <th>Value Footnotes</th>\n",
              "    </tr>\n",
              "    <tr>\n",
              "      <th>Country or Area</th>\n",
              "      <th></th>\n",
              "      <th></th>\n",
              "      <th></th>\n",
              "    </tr>\n",
              "  </thead>\n",
              "  <tbody>\n",
              "    <tr>\n",
              "      <th>Afghanistan</th>\n",
              "      <td>2012</td>\n",
              "      <td>60.509122</td>\n",
              "      <td>NaN</td>\n",
              "    </tr>\n",
              "    <tr>\n",
              "      <th>Afghanistan</th>\n",
              "      <td>2011</td>\n",
              "      <td>60.065366</td>\n",
              "      <td>NaN</td>\n",
              "    </tr>\n",
              "    <tr>\n",
              "      <th>Afghanistan</th>\n",
              "      <td>2010</td>\n",
              "      <td>59.600098</td>\n",
              "      <td>NaN</td>\n",
              "    </tr>\n",
              "    <tr>\n",
              "      <th>Afghanistan</th>\n",
              "      <td>2009</td>\n",
              "      <td>59.112341</td>\n",
              "      <td>NaN</td>\n",
              "    </tr>\n",
              "    <tr>\n",
              "      <th>Afghanistan</th>\n",
              "      <td>2008</td>\n",
              "      <td>58.607098</td>\n",
              "      <td>NaN</td>\n",
              "    </tr>\n",
              "  </tbody>\n",
              "</table>\n",
              "</div>"
            ]
          },
          "metadata": {},
          "execution_count": 47
        }
      ],
      "source": [
        "life.head()"
      ]
    },
    {
      "cell_type": "markdown",
      "metadata": {
        "id": "je4DUR8LS6jS"
      },
      "source": [
        "## Exercise:\n",
        "\n",
        "In a new cell, clean up the above dataframe by\n",
        "\n",
        "- removing the \"Value Footnotes\" Column\n",
        "- use only the most recent data (2012)"
      ]
    },
    {
      "cell_type": "markdown",
      "metadata": {
        "id": "2se0IelGS6jS"
      },
      "source": [
        "Let's make it a little clearer what \"Value\" refers to, by renaming the column. This is one way to do that:"
      ]
    },
    {
      "cell_type": "code",
      "execution_count": 48,
      "metadata": {
        "id": "234BRNRyS6jS"
      },
      "outputs": [],
      "source": [
        "life.rename(columns={'Value':'Life Expectancy'}, inplace=True)"
      ]
    },
    {
      "cell_type": "code",
      "execution_count": 49,
      "metadata": {
        "id": "Lb01c6upS6jV",
        "outputId": "58cbc79f-5231-4b16-e66c-d2db89b21ac0",
        "colab": {
          "base_uri": "https://localhost:8080/",
          "height": 238
        }
      },
      "outputs": [
        {
          "output_type": "execute_result",
          "data": {
            "text/plain": [
              "                 Year  Life Expectancy  Value Footnotes\n",
              "Country or Area                                        \n",
              "Afghanistan      2012        60.509122              NaN\n",
              "Afghanistan      2011        60.065366              NaN\n",
              "Afghanistan      2010        59.600098              NaN\n",
              "Afghanistan      2009        59.112341              NaN\n",
              "Afghanistan      2008        58.607098              NaN"
            ],
            "text/html": [
              "<div>\n",
              "<style scoped>\n",
              "    .dataframe tbody tr th:only-of-type {\n",
              "        vertical-align: middle;\n",
              "    }\n",
              "\n",
              "    .dataframe tbody tr th {\n",
              "        vertical-align: top;\n",
              "    }\n",
              "\n",
              "    .dataframe thead th {\n",
              "        text-align: right;\n",
              "    }\n",
              "</style>\n",
              "<table border=\"1\" class=\"dataframe\">\n",
              "  <thead>\n",
              "    <tr style=\"text-align: right;\">\n",
              "      <th></th>\n",
              "      <th>Year</th>\n",
              "      <th>Life Expectancy</th>\n",
              "      <th>Value Footnotes</th>\n",
              "    </tr>\n",
              "    <tr>\n",
              "      <th>Country or Area</th>\n",
              "      <th></th>\n",
              "      <th></th>\n",
              "      <th></th>\n",
              "    </tr>\n",
              "  </thead>\n",
              "  <tbody>\n",
              "    <tr>\n",
              "      <th>Afghanistan</th>\n",
              "      <td>2012</td>\n",
              "      <td>60.509122</td>\n",
              "      <td>NaN</td>\n",
              "    </tr>\n",
              "    <tr>\n",
              "      <th>Afghanistan</th>\n",
              "      <td>2011</td>\n",
              "      <td>60.065366</td>\n",
              "      <td>NaN</td>\n",
              "    </tr>\n",
              "    <tr>\n",
              "      <th>Afghanistan</th>\n",
              "      <td>2010</td>\n",
              "      <td>59.600098</td>\n",
              "      <td>NaN</td>\n",
              "    </tr>\n",
              "    <tr>\n",
              "      <th>Afghanistan</th>\n",
              "      <td>2009</td>\n",
              "      <td>59.112341</td>\n",
              "      <td>NaN</td>\n",
              "    </tr>\n",
              "    <tr>\n",
              "      <th>Afghanistan</th>\n",
              "      <td>2008</td>\n",
              "      <td>58.607098</td>\n",
              "      <td>NaN</td>\n",
              "    </tr>\n",
              "  </tbody>\n",
              "</table>\n",
              "</div>"
            ]
          },
          "metadata": {},
          "execution_count": 49
        }
      ],
      "source": [
        "life.head()"
      ]
    },
    {
      "cell_type": "markdown",
      "metadata": {
        "id": "g6MsCtJwS6jW"
      },
      "source": [
        "# Exercise\n",
        "\n",
        "Now, merge this data with the cities data to show life expectancy for each city (based on the country it is in), and show the first 5 rows.\n",
        "\n",
        "How much data was \"missing\" in the merge?\n",
        "\n",
        "Relabel the City Population column so it's clear what it represents.\n",
        "\n",
        "\n",
        "**Extension:** Plot population against life expectancy. Use plot's *optional arguments* to specify the x column, y column, and that kind='scatter'.\n",
        "\n",
        "**Don't forget to include a title and axis labels!**"
      ]
    },
    {
      "cell_type": "code",
      "execution_count": null,
      "metadata": {
        "id": "_OXM4uygS6jW"
      },
      "outputs": [],
      "source": []
    },
    {
      "cell_type": "markdown",
      "metadata": {
        "id": "NegFX-rjS6jY"
      },
      "source": [
        "## Recap: Joins\n",
        "\n",
        "Pandas has **four** join methods:\n",
        "\n",
        "    - Left Join: use **only** keys from **left** DataFrame. SQL: [left outer join](http://goo.gl/JICveI)\n",
        "    - Right Join: use **only** keys from **right** DataFrame. SQL: [right outer join](http://goo.gl/TrrHjQ)\n",
        "    - Outer Join: use union of **keys from both** DataFrames. SQL: [full outer join](http://goo.gl/bVRqO8)\n",
        "    - Inner Join: use **intersection of keys** from both DataFrames. SQL: [inner join](http://goo.gl/Cf1MF8)"
      ]
    }
  ],
  "metadata": {
    "colab": {
      "collapsed_sections": [
        "K1VdYJJ1S6iO",
        "p-nMMNZkS6iu",
        "7jbHLNWJS6iu",
        "qFwsma6tS6jC",
        "CPb3I6u1S6jJ",
        "l_hXvqvdS6jO",
        "NegFX-rjS6jY"
      ],
      "name": "W3. Merging and Joining in Python.ipynb",
      "provenance": []
    },
    "kernelspec": {
      "display_name": "Python 3.9.5 64-bit ('3.9.5')",
      "language": "python",
      "name": "python3"
    },
    "language_info": {
      "codemirror_mode": {
        "name": "ipython",
        "version": 3
      },
      "file_extension": ".py",
      "mimetype": "text/x-python",
      "name": "python",
      "nbconvert_exporter": "python",
      "pygments_lexer": "ipython3",
      "version": "3.9.5"
    },
    "vscode": {
      "interpreter": {
        "hash": "d34fbd810dd9652f8e464616181cf14dbb258b5c046bed5c2f54c6b5e518fed2"
      }
    }
  },
  "nbformat": 4,
  "nbformat_minor": 0
}